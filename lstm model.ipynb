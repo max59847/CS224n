{
  "nbformat": 4,
  "nbformat_minor": 0,
  "metadata": {
    "colab": {
      "provenance": []
    },
    "kernelspec": {
      "name": "python3",
      "display_name": "Python 3"
    },
    "language_info": {
      "name": "python"
    }
  },
  "cells": [
    {
      "cell_type": "code",
      "execution_count": 3,
      "metadata": {
        "colab": {
          "base_uri": "https://localhost:8080/"
        },
        "id": "A2k6Cv8fxfzg",
        "outputId": "08484a8d-6116-41ae-d432-2f464daa465b"
      },
      "outputs": [
        {
          "output_type": "stream",
          "name": "stdout",
          "text": [
            "Requirement already satisfied: keras-metrics in /usr/local/lib/python3.10/dist-packages (1.1.0)\n",
            "Requirement already satisfied: Keras>=2.1.5 in /usr/local/lib/python3.10/dist-packages (from keras-metrics) (3.5.0)\n",
            "Requirement already satisfied: absl-py in /usr/local/lib/python3.10/dist-packages (from Keras>=2.1.5->keras-metrics) (1.4.0)\n",
            "Requirement already satisfied: numpy in /usr/local/lib/python3.10/dist-packages (from Keras>=2.1.5->keras-metrics) (1.26.4)\n",
            "Requirement already satisfied: rich in /usr/local/lib/python3.10/dist-packages (from Keras>=2.1.5->keras-metrics) (13.9.4)\n",
            "Requirement already satisfied: namex in /usr/local/lib/python3.10/dist-packages (from Keras>=2.1.5->keras-metrics) (0.0.8)\n",
            "Requirement already satisfied: h5py in /usr/local/lib/python3.10/dist-packages (from Keras>=2.1.5->keras-metrics) (3.12.1)\n",
            "Requirement already satisfied: optree in /usr/local/lib/python3.10/dist-packages (from Keras>=2.1.5->keras-metrics) (0.13.1)\n",
            "Requirement already satisfied: ml-dtypes in /usr/local/lib/python3.10/dist-packages (from Keras>=2.1.5->keras-metrics) (0.4.1)\n",
            "Requirement already satisfied: packaging in /usr/local/lib/python3.10/dist-packages (from Keras>=2.1.5->keras-metrics) (24.2)\n",
            "Requirement already satisfied: typing-extensions>=4.5.0 in /usr/local/lib/python3.10/dist-packages (from optree->Keras>=2.1.5->keras-metrics) (4.12.2)\n",
            "Requirement already satisfied: markdown-it-py>=2.2.0 in /usr/local/lib/python3.10/dist-packages (from rich->Keras>=2.1.5->keras-metrics) (3.0.0)\n",
            "Requirement already satisfied: pygments<3.0.0,>=2.13.0 in /usr/local/lib/python3.10/dist-packages (from rich->Keras>=2.1.5->keras-metrics) (2.18.0)\n",
            "Requirement already satisfied: mdurl~=0.1 in /usr/local/lib/python3.10/dist-packages (from markdown-it-py>=2.2.0->rich->Keras>=2.1.5->keras-metrics) (0.1.2)\n",
            "Requirement already satisfied: scikit-plot in /usr/local/lib/python3.10/dist-packages (0.3.7)\n",
            "Requirement already satisfied: matplotlib>=1.4.0 in /usr/local/lib/python3.10/dist-packages (from scikit-plot) (3.8.0)\n",
            "Requirement already satisfied: scikit-learn>=0.18 in /usr/local/lib/python3.10/dist-packages (from scikit-plot) (1.5.2)\n",
            "Requirement already satisfied: scipy>=0.9 in /usr/local/lib/python3.10/dist-packages (from scikit-plot) (1.13.1)\n",
            "Requirement already satisfied: joblib>=0.10 in /usr/local/lib/python3.10/dist-packages (from scikit-plot) (1.4.2)\n",
            "Requirement already satisfied: contourpy>=1.0.1 in /usr/local/lib/python3.10/dist-packages (from matplotlib>=1.4.0->scikit-plot) (1.3.1)\n",
            "Requirement already satisfied: cycler>=0.10 in /usr/local/lib/python3.10/dist-packages (from matplotlib>=1.4.0->scikit-plot) (0.12.1)\n",
            "Requirement already satisfied: fonttools>=4.22.0 in /usr/local/lib/python3.10/dist-packages (from matplotlib>=1.4.0->scikit-plot) (4.55.0)\n",
            "Requirement already satisfied: kiwisolver>=1.0.1 in /usr/local/lib/python3.10/dist-packages (from matplotlib>=1.4.0->scikit-plot) (1.4.7)\n",
            "Requirement already satisfied: numpy<2,>=1.21 in /usr/local/lib/python3.10/dist-packages (from matplotlib>=1.4.0->scikit-plot) (1.26.4)\n",
            "Requirement already satisfied: packaging>=20.0 in /usr/local/lib/python3.10/dist-packages (from matplotlib>=1.4.0->scikit-plot) (24.2)\n",
            "Requirement already satisfied: pillow>=6.2.0 in /usr/local/lib/python3.10/dist-packages (from matplotlib>=1.4.0->scikit-plot) (11.0.0)\n",
            "Requirement already satisfied: pyparsing>=2.3.1 in /usr/local/lib/python3.10/dist-packages (from matplotlib>=1.4.0->scikit-plot) (3.2.0)\n",
            "Requirement already satisfied: python-dateutil>=2.7 in /usr/local/lib/python3.10/dist-packages (from matplotlib>=1.4.0->scikit-plot) (2.8.2)\n",
            "Requirement already satisfied: threadpoolctl>=3.1.0 in /usr/local/lib/python3.10/dist-packages (from scikit-learn>=0.18->scikit-plot) (3.5.0)\n",
            "Requirement already satisfied: six>=1.5 in /usr/local/lib/python3.10/dist-packages (from python-dateutil>=2.7->matplotlib>=1.4.0->scikit-plot) (1.16.0)\n",
            "Requirement already satisfied: scipy in /usr/local/lib/python3.10/dist-packages (1.13.1)\n",
            "Requirement already satisfied: numpy<2.3,>=1.22.4 in /usr/local/lib/python3.10/dist-packages (from scipy) (1.26.4)\n"
          ]
        },
        {
          "output_type": "stream",
          "name": "stderr",
          "text": [
            "[nltk_data] Downloading package punkt_tab to /root/nltk_data...\n",
            "[nltk_data]   Package punkt_tab is already up-to-date!\n",
            "[nltk_data] Downloading package stopwords to /root/nltk_data...\n",
            "[nltk_data]   Package stopwords is already up-to-date!\n",
            "[nltk_data] Downloading package wordnet to /root/nltk_data...\n",
            "[nltk_data]   Package wordnet is already up-to-date!\n"
          ]
        }
      ],
      "source": [
        "import h5py\n",
        "import numpy as np\n",
        "import tensorflow as tf\n",
        "import matplotlib.pyplot as plt\n",
        "from tensorflow.python.framework.ops import EagerTensor\n",
        "from tensorflow.python.ops.resource_variable_ops import ResourceVariable\n",
        "import time\n",
        "!pip install keras-metrics\n",
        "!pip install scikit-plot\n",
        "!pip install scipy\n",
        "import pandas as pd\n",
        "import re\n",
        "import nltk\n",
        "nltk.download('punkt_tab')\n",
        "from nltk.tokenize import word_tokenize\n",
        "from nltk.corpus import stopwords\n",
        "nltk.download('stopwords')\n",
        "nltk.download('wordnet')\n",
        "from nltk.stem import WordNetLemmatizer\n",
        "lemmatizer = WordNetLemmatizer()\n",
        "from tqdm import tqdm\n",
        "import pickle\n",
        "from collections import Counter\n",
        "import operator\n",
        "import matplotlib.pyplot as plt\n",
        "from sklearn.model_selection import train_test_split\n",
        "import numpy as np\n",
        "from sklearn.metrics import confusion_matrix\n",
        "from sklearn import metrics\n",
        "import warnings\n",
        "warnings.filterwarnings(\"ignore\")\n",
        "from keras.models import Sequential\n",
        "from keras.layers import Dense\n",
        "from keras.layers import LSTM\n",
        "from keras.layers import Embedding\n",
        "from keras.preprocessing import sequence\n",
        "from keras.layers import Dropout\n",
        "from IPython.display import display\n",
        "import keras_metrics\n",
        "import keras\n",
        "import matplotlib.pyplot as plt\n",
        "from keras.models import load_model\n",
        "from keras.callbacks import ModelCheckpoint, EarlyStopping\n",
        "#import scikitplot as skplt\n",
        "from keras.layers import Dense, Dropout, Embedding, LSTM, Bidirectional\n",
        "import json"
      ]
    },
    {
      "cell_type": "code",
      "source": [
        "from google.colab import drive\n",
        "drive.mount('/content/drive')"
      ],
      "metadata": {
        "colab": {
          "base_uri": "https://localhost:8080/"
        },
        "id": "6qfugmlqzqvj",
        "outputId": "d9d48ef6-9dd1-4a8c-f38b-300e69f24867"
      },
      "execution_count": 4,
      "outputs": [
        {
          "output_type": "stream",
          "name": "stdout",
          "text": [
            "Drive already mounted at /content/drive; to attempt to forcibly remount, call drive.mount(\"/content/drive\", force_remount=True).\n"
          ]
        }
      ]
    },
    {
      "cell_type": "code",
      "source": [
        "total_data = pd.read_csv(\"/content/drive/My Drive/cs230 project self/facts_opinions.csv\")\n",
        "total_data.head()"
      ],
      "metadata": {
        "colab": {
          "base_uri": "https://localhost:8080/",
          "height": 206
        },
        "id": "tYChOwnG1XpF",
        "outputId": "18701c82-7456-4c10-b185-2d5ab1d97822"
      },
      "execution_count": 5,
      "outputs": [
        {
          "output_type": "execute_result",
          "data": {
            "text/plain": [
              "                                                Text  Label\n",
              "0  One of the other reviewers has mentioned that ...      0\n",
              "1  A wonderful little production. <br /><br />The...      0\n",
              "2  I thought this was a wonderful way to spend ti...      0\n",
              "3  Basically there's a family where a little boy ...      0\n",
              "4  Petter Mattei's \"Love in the Time of Money\" is...      0"
            ],
            "text/html": [
              "\n",
              "  <div id=\"df-bf990bb8-91a1-4211-a48e-8ce16db4f9d6\" class=\"colab-df-container\">\n",
              "    <div>\n",
              "<style scoped>\n",
              "    .dataframe tbody tr th:only-of-type {\n",
              "        vertical-align: middle;\n",
              "    }\n",
              "\n",
              "    .dataframe tbody tr th {\n",
              "        vertical-align: top;\n",
              "    }\n",
              "\n",
              "    .dataframe thead th {\n",
              "        text-align: right;\n",
              "    }\n",
              "</style>\n",
              "<table border=\"1\" class=\"dataframe\">\n",
              "  <thead>\n",
              "    <tr style=\"text-align: right;\">\n",
              "      <th></th>\n",
              "      <th>Text</th>\n",
              "      <th>Label</th>\n",
              "    </tr>\n",
              "  </thead>\n",
              "  <tbody>\n",
              "    <tr>\n",
              "      <th>0</th>\n",
              "      <td>One of the other reviewers has mentioned that ...</td>\n",
              "      <td>0</td>\n",
              "    </tr>\n",
              "    <tr>\n",
              "      <th>1</th>\n",
              "      <td>A wonderful little production. &lt;br /&gt;&lt;br /&gt;The...</td>\n",
              "      <td>0</td>\n",
              "    </tr>\n",
              "    <tr>\n",
              "      <th>2</th>\n",
              "      <td>I thought this was a wonderful way to spend ti...</td>\n",
              "      <td>0</td>\n",
              "    </tr>\n",
              "    <tr>\n",
              "      <th>3</th>\n",
              "      <td>Basically there's a family where a little boy ...</td>\n",
              "      <td>0</td>\n",
              "    </tr>\n",
              "    <tr>\n",
              "      <th>4</th>\n",
              "      <td>Petter Mattei's \"Love in the Time of Money\" is...</td>\n",
              "      <td>0</td>\n",
              "    </tr>\n",
              "  </tbody>\n",
              "</table>\n",
              "</div>\n",
              "    <div class=\"colab-df-buttons\">\n",
              "\n",
              "  <div class=\"colab-df-container\">\n",
              "    <button class=\"colab-df-convert\" onclick=\"convertToInteractive('df-bf990bb8-91a1-4211-a48e-8ce16db4f9d6')\"\n",
              "            title=\"Convert this dataframe to an interactive table.\"\n",
              "            style=\"display:none;\">\n",
              "\n",
              "  <svg xmlns=\"http://www.w3.org/2000/svg\" height=\"24px\" viewBox=\"0 -960 960 960\">\n",
              "    <path d=\"M120-120v-720h720v720H120Zm60-500h600v-160H180v160Zm220 220h160v-160H400v160Zm0 220h160v-160H400v160ZM180-400h160v-160H180v160Zm440 0h160v-160H620v160ZM180-180h160v-160H180v160Zm440 0h160v-160H620v160Z\"/>\n",
              "  </svg>\n",
              "    </button>\n",
              "\n",
              "  <style>\n",
              "    .colab-df-container {\n",
              "      display:flex;\n",
              "      gap: 12px;\n",
              "    }\n",
              "\n",
              "    .colab-df-convert {\n",
              "      background-color: #E8F0FE;\n",
              "      border: none;\n",
              "      border-radius: 50%;\n",
              "      cursor: pointer;\n",
              "      display: none;\n",
              "      fill: #1967D2;\n",
              "      height: 32px;\n",
              "      padding: 0 0 0 0;\n",
              "      width: 32px;\n",
              "    }\n",
              "\n",
              "    .colab-df-convert:hover {\n",
              "      background-color: #E2EBFA;\n",
              "      box-shadow: 0px 1px 2px rgba(60, 64, 67, 0.3), 0px 1px 3px 1px rgba(60, 64, 67, 0.15);\n",
              "      fill: #174EA6;\n",
              "    }\n",
              "\n",
              "    .colab-df-buttons div {\n",
              "      margin-bottom: 4px;\n",
              "    }\n",
              "\n",
              "    [theme=dark] .colab-df-convert {\n",
              "      background-color: #3B4455;\n",
              "      fill: #D2E3FC;\n",
              "    }\n",
              "\n",
              "    [theme=dark] .colab-df-convert:hover {\n",
              "      background-color: #434B5C;\n",
              "      box-shadow: 0px 1px 3px 1px rgba(0, 0, 0, 0.15);\n",
              "      filter: drop-shadow(0px 1px 2px rgba(0, 0, 0, 0.3));\n",
              "      fill: #FFFFFF;\n",
              "    }\n",
              "  </style>\n",
              "\n",
              "    <script>\n",
              "      const buttonEl =\n",
              "        document.querySelector('#df-bf990bb8-91a1-4211-a48e-8ce16db4f9d6 button.colab-df-convert');\n",
              "      buttonEl.style.display =\n",
              "        google.colab.kernel.accessAllowed ? 'block' : 'none';\n",
              "\n",
              "      async function convertToInteractive(key) {\n",
              "        const element = document.querySelector('#df-bf990bb8-91a1-4211-a48e-8ce16db4f9d6');\n",
              "        const dataTable =\n",
              "          await google.colab.kernel.invokeFunction('convertToInteractive',\n",
              "                                                    [key], {});\n",
              "        if (!dataTable) return;\n",
              "\n",
              "        const docLinkHtml = 'Like what you see? Visit the ' +\n",
              "          '<a target=\"_blank\" href=https://colab.research.google.com/notebooks/data_table.ipynb>data table notebook</a>'\n",
              "          + ' to learn more about interactive tables.';\n",
              "        element.innerHTML = '';\n",
              "        dataTable['output_type'] = 'display_data';\n",
              "        await google.colab.output.renderOutput(dataTable, element);\n",
              "        const docLink = document.createElement('div');\n",
              "        docLink.innerHTML = docLinkHtml;\n",
              "        element.appendChild(docLink);\n",
              "      }\n",
              "    </script>\n",
              "  </div>\n",
              "\n",
              "\n",
              "<div id=\"df-825b09d0-36c3-4211-9344-e12200c2f10a\">\n",
              "  <button class=\"colab-df-quickchart\" onclick=\"quickchart('df-825b09d0-36c3-4211-9344-e12200c2f10a')\"\n",
              "            title=\"Suggest charts\"\n",
              "            style=\"display:none;\">\n",
              "\n",
              "<svg xmlns=\"http://www.w3.org/2000/svg\" height=\"24px\"viewBox=\"0 0 24 24\"\n",
              "     width=\"24px\">\n",
              "    <g>\n",
              "        <path d=\"M19 3H5c-1.1 0-2 .9-2 2v14c0 1.1.9 2 2 2h14c1.1 0 2-.9 2-2V5c0-1.1-.9-2-2-2zM9 17H7v-7h2v7zm4 0h-2V7h2v10zm4 0h-2v-4h2v4z\"/>\n",
              "    </g>\n",
              "</svg>\n",
              "  </button>\n",
              "\n",
              "<style>\n",
              "  .colab-df-quickchart {\n",
              "      --bg-color: #E8F0FE;\n",
              "      --fill-color: #1967D2;\n",
              "      --hover-bg-color: #E2EBFA;\n",
              "      --hover-fill-color: #174EA6;\n",
              "      --disabled-fill-color: #AAA;\n",
              "      --disabled-bg-color: #DDD;\n",
              "  }\n",
              "\n",
              "  [theme=dark] .colab-df-quickchart {\n",
              "      --bg-color: #3B4455;\n",
              "      --fill-color: #D2E3FC;\n",
              "      --hover-bg-color: #434B5C;\n",
              "      --hover-fill-color: #FFFFFF;\n",
              "      --disabled-bg-color: #3B4455;\n",
              "      --disabled-fill-color: #666;\n",
              "  }\n",
              "\n",
              "  .colab-df-quickchart {\n",
              "    background-color: var(--bg-color);\n",
              "    border: none;\n",
              "    border-radius: 50%;\n",
              "    cursor: pointer;\n",
              "    display: none;\n",
              "    fill: var(--fill-color);\n",
              "    height: 32px;\n",
              "    padding: 0;\n",
              "    width: 32px;\n",
              "  }\n",
              "\n",
              "  .colab-df-quickchart:hover {\n",
              "    background-color: var(--hover-bg-color);\n",
              "    box-shadow: 0 1px 2px rgba(60, 64, 67, 0.3), 0 1px 3px 1px rgba(60, 64, 67, 0.15);\n",
              "    fill: var(--button-hover-fill-color);\n",
              "  }\n",
              "\n",
              "  .colab-df-quickchart-complete:disabled,\n",
              "  .colab-df-quickchart-complete:disabled:hover {\n",
              "    background-color: var(--disabled-bg-color);\n",
              "    fill: var(--disabled-fill-color);\n",
              "    box-shadow: none;\n",
              "  }\n",
              "\n",
              "  .colab-df-spinner {\n",
              "    border: 2px solid var(--fill-color);\n",
              "    border-color: transparent;\n",
              "    border-bottom-color: var(--fill-color);\n",
              "    animation:\n",
              "      spin 1s steps(1) infinite;\n",
              "  }\n",
              "\n",
              "  @keyframes spin {\n",
              "    0% {\n",
              "      border-color: transparent;\n",
              "      border-bottom-color: var(--fill-color);\n",
              "      border-left-color: var(--fill-color);\n",
              "    }\n",
              "    20% {\n",
              "      border-color: transparent;\n",
              "      border-left-color: var(--fill-color);\n",
              "      border-top-color: var(--fill-color);\n",
              "    }\n",
              "    30% {\n",
              "      border-color: transparent;\n",
              "      border-left-color: var(--fill-color);\n",
              "      border-top-color: var(--fill-color);\n",
              "      border-right-color: var(--fill-color);\n",
              "    }\n",
              "    40% {\n",
              "      border-color: transparent;\n",
              "      border-right-color: var(--fill-color);\n",
              "      border-top-color: var(--fill-color);\n",
              "    }\n",
              "    60% {\n",
              "      border-color: transparent;\n",
              "      border-right-color: var(--fill-color);\n",
              "    }\n",
              "    80% {\n",
              "      border-color: transparent;\n",
              "      border-right-color: var(--fill-color);\n",
              "      border-bottom-color: var(--fill-color);\n",
              "    }\n",
              "    90% {\n",
              "      border-color: transparent;\n",
              "      border-bottom-color: var(--fill-color);\n",
              "    }\n",
              "  }\n",
              "</style>\n",
              "\n",
              "  <script>\n",
              "    async function quickchart(key) {\n",
              "      const quickchartButtonEl =\n",
              "        document.querySelector('#' + key + ' button');\n",
              "      quickchartButtonEl.disabled = true;  // To prevent multiple clicks.\n",
              "      quickchartButtonEl.classList.add('colab-df-spinner');\n",
              "      try {\n",
              "        const charts = await google.colab.kernel.invokeFunction(\n",
              "            'suggestCharts', [key], {});\n",
              "      } catch (error) {\n",
              "        console.error('Error during call to suggestCharts:', error);\n",
              "      }\n",
              "      quickchartButtonEl.classList.remove('colab-df-spinner');\n",
              "      quickchartButtonEl.classList.add('colab-df-quickchart-complete');\n",
              "    }\n",
              "    (() => {\n",
              "      let quickchartButtonEl =\n",
              "        document.querySelector('#df-825b09d0-36c3-4211-9344-e12200c2f10a button');\n",
              "      quickchartButtonEl.style.display =\n",
              "        google.colab.kernel.accessAllowed ? 'block' : 'none';\n",
              "    })();\n",
              "  </script>\n",
              "</div>\n",
              "\n",
              "    </div>\n",
              "  </div>\n"
            ],
            "application/vnd.google.colaboratory.intrinsic+json": {
              "type": "dataframe",
              "variable_name": "total_data",
              "summary": "{\n  \"name\": \"total_data\",\n  \"rows\": 94379,\n  \"fields\": [\n    {\n      \"column\": \"Text\",\n      \"properties\": {\n        \"dtype\": \"string\",\n        \"num_unique_values\": 93888,\n        \"samples\": [\n          \"A beautiful virgin inherits a castle, but when she arrives at it, she finds that the inhabitants include a strange nobleman and a bevy of beautiful women she suspects may be vampires.\",\n          \"I've seen some very terrible horror movies in my time, and while this isn't the worst of the bunch, it's certainly in the lower half. The script starts off OK. A young doctor goes to a hospital as an intern, hoping it will vault him to a better job for him and his future wife. Cute huh? The movie then heads straight into the toilet when you realize that something is killing patients. Turns out that there's a demon on the basement that's harvesting people's souls. It's the job of the 1 doctor, 1 nurse, and 1 security guard in the entire hospital staff to drag this mental patient downstairs, do a ritual that pretty much just involves cutting the tongue out, and then allowing the haunted house prop of a demon to come out and steal his soul through the magic of cheesy special effects. At this point the movie gets so ridiculously stupid, I was begging for it to be over. There was still an hour to go. It looked like a half an hour \\\"Tales From the Crypt\\\" episode that somehow got stretched into an hour and a half crap-fest. From Tiny Lister doing his best John Coffey (The Green Mile) impersonation to Tracy Scoggins playing the stereotypical frigid Nurse Ratchet, this movie fails in every possible level. I gave this 2 stars for only TWO reason. 1) His fianc\\u00e9 is pretty hot, she eased the pain a little towards the end and 2) The movie actually looks OK, a lot better than the current trend of horror movies being made with wal-mart quality home cameras.<br /><br />In the end, avoid this turd even if you have the Blockbuster movie pass (which I do, and I still felt cheated). As a bonus drinking game, you and your buddies take a shot every time Matt Stasi (Dr. James Bishop) shakes his head while talking. You'll be drunk 15 minutes into the movie.\",\n          \"A hack screenwriter writes a screenplay for a former silent-film star who has faded into Hollywood obscurity.\"\n        ],\n        \"semantic_type\": \"\",\n        \"description\": \"\"\n      }\n    },\n    {\n      \"column\": \"Label\",\n      \"properties\": {\n        \"dtype\": \"number\",\n        \"std\": 0,\n        \"min\": 0,\n        \"max\": 1,\n        \"num_unique_values\": 2,\n        \"samples\": [\n          1,\n          0\n        ],\n        \"semantic_type\": \"\",\n        \"description\": \"\"\n      }\n    }\n  ]\n}"
            }
          },
          "metadata": {},
          "execution_count": 5
        }
      ]
    },
    {
      "cell_type": "code",
      "source": [
        "def preproc(data):\n",
        "  stopword=\"\"\n",
        "  cleantext = \" \"\n",
        "  stopword = set(stopwords.words('english'))\n",
        "  for i in word_tokenize(data):\n",
        "    if(any(j.isdigit() for j in i)):\n",
        "      continue\n",
        "    i=i.lower()\n",
        "    if (i not in stopword) and (len(i)>2):\n",
        "      pattern1 = '[!.?$/\\}#=<>\"\\*:,|_~;()^\\']'\n",
        "      pattern2 = '[\\n\\n]+'\n",
        "      pattern3 = '[\\ \\ ]+'\n",
        "      wout_sc = re.sub(pattern1,'',i)\n",
        "      wout_el = re.sub(pattern2,'\\n',wout_sc)\n",
        "      wout_mspaces = re.sub(pattern3,' ',wout_el)\n",
        "      cleaned_text = wout_mspaces.strip()\n",
        "      cleaned_text=lemmatizer.lemmatize(cleaned_text)\n",
        "      if (i not in stopword) and (len(i)>2):\n",
        "        cleantext = cleantext+cleaned_text+\" \"\n",
        "  return cleantext.strip()"
      ],
      "metadata": {
        "id": "55wnOpt91wvr"
      },
      "execution_count": 6,
      "outputs": []
    },
    {
      "cell_type": "code",
      "source": [
        "for i in tqdm(range(len(total_data)),leave=True,position=0):\n",
        "  total_data.iloc[i,0] = preproc(total_data.iloc[i,0])"
      ],
      "metadata": {
        "colab": {
          "base_uri": "https://localhost:8080/"
        },
        "id": "ee7gZlpx17fp",
        "outputId": "e2e55320-fd42-4ab1-ef24-50a9a5111098"
      },
      "execution_count": 7,
      "outputs": [
        {
          "output_type": "stream",
          "name": "stderr",
          "text": [
            "100%|██████████| 94379/94379 [05:18<00:00, 296.03it/s]\n"
          ]
        }
      ]
    },
    {
      "cell_type": "code",
      "source": [
        "pickle_file_path = \"/content/drive/My Drive/cs230 project self/facts_opinions.pkl\"\n",
        "total_data.to_pickle(pickle_file_path)"
      ],
      "metadata": {
        "id": "yPQDA2NZ1-qI"
      },
      "execution_count": 8,
      "outputs": []
    },
    {
      "cell_type": "code",
      "source": [
        "total_data.head()"
      ],
      "metadata": {
        "colab": {
          "base_uri": "https://localhost:8080/",
          "height": 206
        },
        "id": "_nyB0qC12Na4",
        "outputId": "5810758a-90ba-4020-912e-128a91ac7094"
      },
      "execution_count": 9,
      "outputs": [
        {
          "output_type": "execute_result",
          "data": {
            "text/plain": [
              "                                                Text  Label\n",
              "0  one reviewer mentioned watching episode ll hoo...      0\n",
              "1  wonderful little production filming technique ...      0\n",
              "2  thought wonderful way spend time hot summer we...      0\n",
              "3  basically family little boy jake think zombie ...      0\n",
              "4  petter mattei love time money visually stunnin...      0"
            ],
            "text/html": [
              "\n",
              "  <div id=\"df-4f97c8ba-7de9-4dd5-ac02-074f5f64dbee\" class=\"colab-df-container\">\n",
              "    <div>\n",
              "<style scoped>\n",
              "    .dataframe tbody tr th:only-of-type {\n",
              "        vertical-align: middle;\n",
              "    }\n",
              "\n",
              "    .dataframe tbody tr th {\n",
              "        vertical-align: top;\n",
              "    }\n",
              "\n",
              "    .dataframe thead th {\n",
              "        text-align: right;\n",
              "    }\n",
              "</style>\n",
              "<table border=\"1\" class=\"dataframe\">\n",
              "  <thead>\n",
              "    <tr style=\"text-align: right;\">\n",
              "      <th></th>\n",
              "      <th>Text</th>\n",
              "      <th>Label</th>\n",
              "    </tr>\n",
              "  </thead>\n",
              "  <tbody>\n",
              "    <tr>\n",
              "      <th>0</th>\n",
              "      <td>one reviewer mentioned watching episode ll hoo...</td>\n",
              "      <td>0</td>\n",
              "    </tr>\n",
              "    <tr>\n",
              "      <th>1</th>\n",
              "      <td>wonderful little production filming technique ...</td>\n",
              "      <td>0</td>\n",
              "    </tr>\n",
              "    <tr>\n",
              "      <th>2</th>\n",
              "      <td>thought wonderful way spend time hot summer we...</td>\n",
              "      <td>0</td>\n",
              "    </tr>\n",
              "    <tr>\n",
              "      <th>3</th>\n",
              "      <td>basically family little boy jake think zombie ...</td>\n",
              "      <td>0</td>\n",
              "    </tr>\n",
              "    <tr>\n",
              "      <th>4</th>\n",
              "      <td>petter mattei love time money visually stunnin...</td>\n",
              "      <td>0</td>\n",
              "    </tr>\n",
              "  </tbody>\n",
              "</table>\n",
              "</div>\n",
              "    <div class=\"colab-df-buttons\">\n",
              "\n",
              "  <div class=\"colab-df-container\">\n",
              "    <button class=\"colab-df-convert\" onclick=\"convertToInteractive('df-4f97c8ba-7de9-4dd5-ac02-074f5f64dbee')\"\n",
              "            title=\"Convert this dataframe to an interactive table.\"\n",
              "            style=\"display:none;\">\n",
              "\n",
              "  <svg xmlns=\"http://www.w3.org/2000/svg\" height=\"24px\" viewBox=\"0 -960 960 960\">\n",
              "    <path d=\"M120-120v-720h720v720H120Zm60-500h600v-160H180v160Zm220 220h160v-160H400v160Zm0 220h160v-160H400v160ZM180-400h160v-160H180v160Zm440 0h160v-160H620v160ZM180-180h160v-160H180v160Zm440 0h160v-160H620v160Z\"/>\n",
              "  </svg>\n",
              "    </button>\n",
              "\n",
              "  <style>\n",
              "    .colab-df-container {\n",
              "      display:flex;\n",
              "      gap: 12px;\n",
              "    }\n",
              "\n",
              "    .colab-df-convert {\n",
              "      background-color: #E8F0FE;\n",
              "      border: none;\n",
              "      border-radius: 50%;\n",
              "      cursor: pointer;\n",
              "      display: none;\n",
              "      fill: #1967D2;\n",
              "      height: 32px;\n",
              "      padding: 0 0 0 0;\n",
              "      width: 32px;\n",
              "    }\n",
              "\n",
              "    .colab-df-convert:hover {\n",
              "      background-color: #E2EBFA;\n",
              "      box-shadow: 0px 1px 2px rgba(60, 64, 67, 0.3), 0px 1px 3px 1px rgba(60, 64, 67, 0.15);\n",
              "      fill: #174EA6;\n",
              "    }\n",
              "\n",
              "    .colab-df-buttons div {\n",
              "      margin-bottom: 4px;\n",
              "    }\n",
              "\n",
              "    [theme=dark] .colab-df-convert {\n",
              "      background-color: #3B4455;\n",
              "      fill: #D2E3FC;\n",
              "    }\n",
              "\n",
              "    [theme=dark] .colab-df-convert:hover {\n",
              "      background-color: #434B5C;\n",
              "      box-shadow: 0px 1px 3px 1px rgba(0, 0, 0, 0.15);\n",
              "      filter: drop-shadow(0px 1px 2px rgba(0, 0, 0, 0.3));\n",
              "      fill: #FFFFFF;\n",
              "    }\n",
              "  </style>\n",
              "\n",
              "    <script>\n",
              "      const buttonEl =\n",
              "        document.querySelector('#df-4f97c8ba-7de9-4dd5-ac02-074f5f64dbee button.colab-df-convert');\n",
              "      buttonEl.style.display =\n",
              "        google.colab.kernel.accessAllowed ? 'block' : 'none';\n",
              "\n",
              "      async function convertToInteractive(key) {\n",
              "        const element = document.querySelector('#df-4f97c8ba-7de9-4dd5-ac02-074f5f64dbee');\n",
              "        const dataTable =\n",
              "          await google.colab.kernel.invokeFunction('convertToInteractive',\n",
              "                                                    [key], {});\n",
              "        if (!dataTable) return;\n",
              "\n",
              "        const docLinkHtml = 'Like what you see? Visit the ' +\n",
              "          '<a target=\"_blank\" href=https://colab.research.google.com/notebooks/data_table.ipynb>data table notebook</a>'\n",
              "          + ' to learn more about interactive tables.';\n",
              "        element.innerHTML = '';\n",
              "        dataTable['output_type'] = 'display_data';\n",
              "        await google.colab.output.renderOutput(dataTable, element);\n",
              "        const docLink = document.createElement('div');\n",
              "        docLink.innerHTML = docLinkHtml;\n",
              "        element.appendChild(docLink);\n",
              "      }\n",
              "    </script>\n",
              "  </div>\n",
              "\n",
              "\n",
              "<div id=\"df-fb0db61b-b40a-4f65-afc9-94116244e3da\">\n",
              "  <button class=\"colab-df-quickchart\" onclick=\"quickchart('df-fb0db61b-b40a-4f65-afc9-94116244e3da')\"\n",
              "            title=\"Suggest charts\"\n",
              "            style=\"display:none;\">\n",
              "\n",
              "<svg xmlns=\"http://www.w3.org/2000/svg\" height=\"24px\"viewBox=\"0 0 24 24\"\n",
              "     width=\"24px\">\n",
              "    <g>\n",
              "        <path d=\"M19 3H5c-1.1 0-2 .9-2 2v14c0 1.1.9 2 2 2h14c1.1 0 2-.9 2-2V5c0-1.1-.9-2-2-2zM9 17H7v-7h2v7zm4 0h-2V7h2v10zm4 0h-2v-4h2v4z\"/>\n",
              "    </g>\n",
              "</svg>\n",
              "  </button>\n",
              "\n",
              "<style>\n",
              "  .colab-df-quickchart {\n",
              "      --bg-color: #E8F0FE;\n",
              "      --fill-color: #1967D2;\n",
              "      --hover-bg-color: #E2EBFA;\n",
              "      --hover-fill-color: #174EA6;\n",
              "      --disabled-fill-color: #AAA;\n",
              "      --disabled-bg-color: #DDD;\n",
              "  }\n",
              "\n",
              "  [theme=dark] .colab-df-quickchart {\n",
              "      --bg-color: #3B4455;\n",
              "      --fill-color: #D2E3FC;\n",
              "      --hover-bg-color: #434B5C;\n",
              "      --hover-fill-color: #FFFFFF;\n",
              "      --disabled-bg-color: #3B4455;\n",
              "      --disabled-fill-color: #666;\n",
              "  }\n",
              "\n",
              "  .colab-df-quickchart {\n",
              "    background-color: var(--bg-color);\n",
              "    border: none;\n",
              "    border-radius: 50%;\n",
              "    cursor: pointer;\n",
              "    display: none;\n",
              "    fill: var(--fill-color);\n",
              "    height: 32px;\n",
              "    padding: 0;\n",
              "    width: 32px;\n",
              "  }\n",
              "\n",
              "  .colab-df-quickchart:hover {\n",
              "    background-color: var(--hover-bg-color);\n",
              "    box-shadow: 0 1px 2px rgba(60, 64, 67, 0.3), 0 1px 3px 1px rgba(60, 64, 67, 0.15);\n",
              "    fill: var(--button-hover-fill-color);\n",
              "  }\n",
              "\n",
              "  .colab-df-quickchart-complete:disabled,\n",
              "  .colab-df-quickchart-complete:disabled:hover {\n",
              "    background-color: var(--disabled-bg-color);\n",
              "    fill: var(--disabled-fill-color);\n",
              "    box-shadow: none;\n",
              "  }\n",
              "\n",
              "  .colab-df-spinner {\n",
              "    border: 2px solid var(--fill-color);\n",
              "    border-color: transparent;\n",
              "    border-bottom-color: var(--fill-color);\n",
              "    animation:\n",
              "      spin 1s steps(1) infinite;\n",
              "  }\n",
              "\n",
              "  @keyframes spin {\n",
              "    0% {\n",
              "      border-color: transparent;\n",
              "      border-bottom-color: var(--fill-color);\n",
              "      border-left-color: var(--fill-color);\n",
              "    }\n",
              "    20% {\n",
              "      border-color: transparent;\n",
              "      border-left-color: var(--fill-color);\n",
              "      border-top-color: var(--fill-color);\n",
              "    }\n",
              "    30% {\n",
              "      border-color: transparent;\n",
              "      border-left-color: var(--fill-color);\n",
              "      border-top-color: var(--fill-color);\n",
              "      border-right-color: var(--fill-color);\n",
              "    }\n",
              "    40% {\n",
              "      border-color: transparent;\n",
              "      border-right-color: var(--fill-color);\n",
              "      border-top-color: var(--fill-color);\n",
              "    }\n",
              "    60% {\n",
              "      border-color: transparent;\n",
              "      border-right-color: var(--fill-color);\n",
              "    }\n",
              "    80% {\n",
              "      border-color: transparent;\n",
              "      border-right-color: var(--fill-color);\n",
              "      border-bottom-color: var(--fill-color);\n",
              "    }\n",
              "    90% {\n",
              "      border-color: transparent;\n",
              "      border-bottom-color: var(--fill-color);\n",
              "    }\n",
              "  }\n",
              "</style>\n",
              "\n",
              "  <script>\n",
              "    async function quickchart(key) {\n",
              "      const quickchartButtonEl =\n",
              "        document.querySelector('#' + key + ' button');\n",
              "      quickchartButtonEl.disabled = true;  // To prevent multiple clicks.\n",
              "      quickchartButtonEl.classList.add('colab-df-spinner');\n",
              "      try {\n",
              "        const charts = await google.colab.kernel.invokeFunction(\n",
              "            'suggestCharts', [key], {});\n",
              "      } catch (error) {\n",
              "        console.error('Error during call to suggestCharts:', error);\n",
              "      }\n",
              "      quickchartButtonEl.classList.remove('colab-df-spinner');\n",
              "      quickchartButtonEl.classList.add('colab-df-quickchart-complete');\n",
              "    }\n",
              "    (() => {\n",
              "      let quickchartButtonEl =\n",
              "        document.querySelector('#df-fb0db61b-b40a-4f65-afc9-94116244e3da button');\n",
              "      quickchartButtonEl.style.display =\n",
              "        google.colab.kernel.accessAllowed ? 'block' : 'none';\n",
              "    })();\n",
              "  </script>\n",
              "</div>\n",
              "\n",
              "    </div>\n",
              "  </div>\n"
            ],
            "application/vnd.google.colaboratory.intrinsic+json": {
              "type": "dataframe",
              "variable_name": "total_data",
              "summary": "{\n  \"name\": \"total_data\",\n  \"rows\": 94379,\n  \"fields\": [\n    {\n      \"column\": \"Text\",\n      \"properties\": {\n        \"dtype\": \"string\",\n        \"num_unique_values\": 93866,\n        \"samples\": [\n          \"people criticize nsna low-point bond god sean connery career unofficial may contain spoiler first movie better bond film featuring actor connery sub par wannabe book sean connery real bond one come even close toughness good look sex appeal yes movie low point connery bond career still definet best bond film sean connery bond actor good older age become baggy mess like moore kept good look toughness gaining gray hair he still real cool tough ever sean connery one movie definitly worth seeing matter anyone say gun-barrel opening nt everything great theme song though\",\n          \"watched film showing comment first time saw film remember taping mother betamax wound taping black white reason gave period look grew like remember distinctively film beginning song bonnie camera panned scene liverpool also remember opening scene paul gesture girl say look talent great irritation popped taped version remembered film open love instead bonnie see slowly camera pan v speed music see love nt fit also later version paul see girl say look girl somehow remembered earlier version word nt seem fit either felt americanize film american audience beyond personally going watch film british band want british colloquialism would part speech mannerism etc another irritation choppy editing television stu get beaten example film cut commercial break-lots em yeah know depends network really ruin effect film sliced apart know people might find insignificant term dialogue thereby okay edit may actually way explaining particular action scene follows point best version film probably earlier version taped happened include shake rattle roll scene version nt started surmise two different version made television look alternate version link regarding film proved right american version shortercutdifferent scene andor dialogue huge disappointment something worth mentioning one care thing imo one best bet try get hold european version film possible probably even less possible unedited version sadly discard old betamax european version nt know convert it aside found film perhaps one best film regarding story behind birth beatles well aware artistic creative license often used movie portraying event history nt let discrepancy mar enjoyment film sure see beatles perform song cavern made wonder even write back nt think nevertheless thought great film performance wonderful real stand-out fact actor played john stephen mackenna fell love look mannerism personality speaking voice seemed spot-on looked enough like young john double-take towards end film see beatles performing sullivan first time actually found questioning whether actual beatle footage saw actor scene re looking dead accurate history beatles life beginning nt get better beatles anthology written boy however re looking fun snapshot pre-beatlemania day leading arrival america leave anal critical assessment door nt wrong birth beatles must real casual beatle fan\",\n          \"underachieving vocal coach motivated father king movie-trailer voice-overs pursue aspiration becoming voice-over star amidst pride sexism family dysfunction set change voice generation\"\n        ],\n        \"semantic_type\": \"\",\n        \"description\": \"\"\n      }\n    },\n    {\n      \"column\": \"Label\",\n      \"properties\": {\n        \"dtype\": \"number\",\n        \"std\": 0,\n        \"min\": 0,\n        \"max\": 1,\n        \"num_unique_values\": 2,\n        \"samples\": [\n          1,\n          0\n        ],\n        \"semantic_type\": \"\",\n        \"description\": \"\"\n      }\n    }\n  ]\n}"
            }
          },
          "metadata": {},
          "execution_count": 9
        }
      ]
    },
    {
      "cell_type": "code",
      "source": [
        "data_y = pd.DataFrame(data=total_data['Label'],columns=['Label'])\n",
        "data_x = total_data.drop(columns=\"Label\")"
      ],
      "metadata": {
        "id": "gz0-pjDm2QUN"
      },
      "execution_count": 10,
      "outputs": []
    },
    {
      "cell_type": "code",
      "source": [
        "x_train,x_test,y_train,y_test = train_test_split(data_x,data_y,train_size=0.9,random_state=42)\n",
        "x_train,x_cv,y_train,y_cv = train_test_split(x_train,y_train,train_size=0.9,random_state=42)"
      ],
      "metadata": {
        "id": "qij2arFq2QaI"
      },
      "execution_count": 11,
      "outputs": []
    },
    {
      "cell_type": "code",
      "source": [
        "x_test.to_csv(\"/content/drive/My Drive/cs230 project self/x_test.csv\",index=False)\n",
        "y_test.to_csv(\"/content/drive/My Drive/cs230 project self/y_test.csv\",index=False)"
      ],
      "metadata": {
        "id": "uAxlF4fA2Qc9"
      },
      "execution_count": 12,
      "outputs": []
    },
    {
      "cell_type": "code",
      "source": [
        "max_len=0\n",
        "l=[]\n",
        "index=[]\n",
        "for i in range(len(x_train)):\n",
        "  cur_len = len(x_train.iloc[i,0].split())\n",
        "  if(cur_len>max_len):\n",
        "    max_len=cur_len\n",
        "print(\"Maximum length of sentence::\",max_len)"
      ],
      "metadata": {
        "colab": {
          "base_uri": "https://localhost:8080/"
        },
        "id": "QsYpA06E2rdn",
        "outputId": "62f2772e-a60f-4897-c4b0-c7799dc25f16"
      },
      "execution_count": 13,
      "outputs": [
        {
          "output_type": "stream",
          "name": "stdout",
          "text": [
            "Maximum length of sentence:: 1393\n"
          ]
        }
      ]
    },
    {
      "cell_type": "code",
      "source": [
        "vocab={}\n",
        "for i in tqdm(x_train['Text'],position=0,leave=True):\n",
        "  for j in i.split():\n",
        "    if j not in vocab:\n",
        "      vocab[j]=1\n",
        "    else:\n",
        "      vocab[j]+=1\n",
        "vocab = sorted(vocab, key=vocab.get, reverse=True)"
      ],
      "metadata": {
        "colab": {
          "base_uri": "https://localhost:8080/"
        },
        "id": "48jawUaz2uWx",
        "outputId": "d1e1ea8c-acaa-41ec-8e66-482c75f193bd"
      },
      "execution_count": 14,
      "outputs": [
        {
          "output_type": "stream",
          "name": "stderr",
          "text": [
            "100%|██████████| 76446/76446 [00:02<00:00, 26839.37it/s]\n"
          ]
        }
      ]
    },
    {
      "cell_type": "code",
      "source": [
        "def vectorize(data,vocab):\n",
        "  print(\"\\nGenerating Vectors......\")\n",
        "  max_seq_len=1400\n",
        "  row=0\n",
        "  ## converting sequence to vector...\n",
        "  new_data = pd.DataFrame(columns=[\"Text\"])\n",
        "  for i in tqdm(data['Text'],position=0,leave=True):\n",
        "    sent=[]\n",
        "    for j in i.split():\n",
        "      try:\n",
        "        sent.append((vocab.index(j))+1)\n",
        "      except:\n",
        "        continue\n",
        "    new_data.loc[row] = [sent]\n",
        "    row+=1\n",
        "  new_data = sequence.pad_sequences(new_data['Text'], maxlen=max_seq_len)\n",
        "  return new_data"
      ],
      "metadata": {
        "id": "H7ZkvZoy2uZr"
      },
      "execution_count": 15,
      "outputs": []
    },
    {
      "cell_type": "code",
      "source": [
        "x_train_vec = vectorize(x_train,vocab)\n",
        "x_cv_vec = vectorize(x_cv,vocab)\n",
        "x_test_vec = vectorize(x_test,vocab)"
      ],
      "metadata": {
        "colab": {
          "base_uri": "https://localhost:8080/"
        },
        "id": "02yrKtpG2uc-",
        "outputId": "0e800ca0-90b5-42d5-e72d-7ed422873eb9"
      },
      "execution_count": 16,
      "outputs": [
        {
          "output_type": "stream",
          "name": "stdout",
          "text": [
            "\n",
            "Generating Vectors......\n"
          ]
        },
        {
          "output_type": "stream",
          "name": "stderr",
          "text": [
            "100%|██████████| 76446/76446 [24:53<00:00, 51.17it/s]\n"
          ]
        },
        {
          "output_type": "stream",
          "name": "stdout",
          "text": [
            "\n",
            "Generating Vectors......\n"
          ]
        },
        {
          "output_type": "stream",
          "name": "stderr",
          "text": [
            "100%|██████████| 8495/8495 [03:15<00:00, 43.44it/s]\n"
          ]
        },
        {
          "output_type": "stream",
          "name": "stdout",
          "text": [
            "\n",
            "Generating Vectors......\n"
          ]
        },
        {
          "output_type": "stream",
          "name": "stderr",
          "text": [
            "100%|██████████| 9438/9438 [03:27<00:00, 45.51it/s]\n"
          ]
        }
      ]
    },
    {
      "cell_type": "code",
      "source": [
        "import json\n",
        "# Basic LSTM model with 0.01 learn rate and 1000 batch size\n",
        "lstm_model1 = Sequential()\n",
        "lstm_model1.add(Embedding(1+len(vocab),20,input_length=1400))\n",
        "lstm_model1.add(LSTM(20))\n",
        "lstm_model1.add(Dense(2, activation='softmax'))\n",
        "checkpoint1 = ModelCheckpoint('/content/drive/My Drive/cs230 project self/saved models/model1-{epoch:03d}-{acc:03f}-{val_acc:03f}.keras', verbose=1, monitor='val_loss',save_best_only=True, mode='auto')\n",
        "lstm_model1.compile(loss='binary_crossentropy', optimizer=keras.optimizers.Adam(0.01), metrics=['acc'])\n",
        "values1=lstm_model1.fit(x_train_vec,keras.utils.to_categorical(y_train,num_classes=2),epochs=3,batch_size=1000,validation_data=(x_cv_vec,keras.utils.to_categorical(y_cv,num_classes=2)),callbacks=[checkpoint1])\n",
        "with open('/content/drive/My Drive/cs230 project self/saved models/lstm_model1_history.json', 'w') as f:\n",
        "    json.dump(values1.history, f)"
      ],
      "metadata": {
        "colab": {
          "base_uri": "https://localhost:8080/"
        },
        "id": "20Z54HcP2-kO",
        "outputId": "90374a68-da78-4e72-fcb1-9cfd8ca93bea"
      },
      "execution_count": 15,
      "outputs": [
        {
          "output_type": "stream",
          "name": "stdout",
          "text": [
            "Epoch 1/3\n",
            "\u001b[1m77/77\u001b[0m \u001b[32m━━━━━━━━━━━━━━━━━━━━\u001b[0m\u001b[37m\u001b[0m \u001b[1m0s\u001b[0m 3s/step - acc: 0.8910 - loss: 0.2706\n",
            "Epoch 1: val_loss improved from inf to 0.04151, saving model to /content/drive/My Drive/cs230 project self/saved models/model1-001-0.954543-0.986580.keras\n",
            "\u001b[1m77/77\u001b[0m \u001b[32m━━━━━━━━━━━━━━━━━━━━\u001b[0m\u001b[37m\u001b[0m \u001b[1m259s\u001b[0m 3s/step - acc: 0.8918 - loss: 0.2689 - val_acc: 0.9866 - val_loss: 0.0415\n",
            "Epoch 2/3\n",
            "\u001b[1m77/77\u001b[0m \u001b[32m━━━━━━━━━━━━━━━━━━━━\u001b[0m\u001b[37m\u001b[0m \u001b[1m0s\u001b[0m 3s/step - acc: 0.9925 - loss: 0.0286\n",
            "Epoch 2: val_loss improved from 0.04151 to 0.04085, saving model to /content/drive/My Drive/cs230 project self/saved models/model1-002-0.992321-0.986463.keras\n",
            "\u001b[1m77/77\u001b[0m \u001b[32m━━━━━━━━━━━━━━━━━━━━\u001b[0m\u001b[37m\u001b[0m \u001b[1m260s\u001b[0m 3s/step - acc: 0.9925 - loss: 0.0286 - val_acc: 0.9865 - val_loss: 0.0409\n",
            "Epoch 3/3\n",
            "\u001b[1m77/77\u001b[0m \u001b[32m━━━━━━━━━━━━━━━━━━━━\u001b[0m\u001b[37m\u001b[0m \u001b[1m0s\u001b[0m 3s/step - acc: 0.9973 - loss: 0.0110\n",
            "Epoch 3: val_loss did not improve from 0.04085\n",
            "\u001b[1m77/77\u001b[0m \u001b[32m━━━━━━━━━━━━━━━━━━━━\u001b[0m\u001b[37m\u001b[0m \u001b[1m264s\u001b[0m 3s/step - acc: 0.9973 - loss: 0.0110 - val_acc: 0.9860 - val_loss: 0.0483\n"
          ]
        }
      ]
    },
    {
      "cell_type": "code",
      "source": [
        "# Basic LSTM model with 0.1 learn rate and 1000 batch size\n",
        "lstm_model2 = Sequential()\n",
        "lstm_model2.add(Embedding(1+len(vocab),20,input_length=1400))\n",
        "lstm_model2.add(LSTM(20))\n",
        "lstm_model2.add(Dense(2, activation='softmax'))\n",
        "checkpoint2 = ModelCheckpoint('/content/drive/My Drive/cs230 project self/saved models/model2-{epoch:03d}-{acc:03f}-{val_acc:03f}.keras', verbose=1, monitor='val_loss',save_best_only=True, mode='auto')\n",
        "lstm_model2.compile(loss='binary_crossentropy', optimizer=keras.optimizers.Adam(0.1), metrics=['acc'])\n",
        "values2=lstm_model2.fit(x_train_vec,keras.utils.to_categorical(y_train,num_classes=2),epochs=3,batch_size=1000,validation_data=(x_cv_vec,keras.utils.to_categorical(y_cv,num_classes=2)),callbacks=[checkpoint2])\n",
        "with open('/content/drive/My Drive/cs230 project self/saved models/lstm_model2_history.json', 'w') as f:\n",
        "    json.dump(values2.history, f)"
      ],
      "metadata": {
        "colab": {
          "base_uri": "https://localhost:8080/"
        },
        "id": "YHo3VZSAFSlI",
        "outputId": "c6a6fc8c-a425-484c-c7c2-65e6c88d808d"
      },
      "execution_count": 16,
      "outputs": [
        {
          "output_type": "stream",
          "name": "stdout",
          "text": [
            "Epoch 1/3\n",
            "\u001b[1m77/77\u001b[0m \u001b[32m━━━━━━━━━━━━━━━━━━━━\u001b[0m\u001b[37m\u001b[0m \u001b[1m0s\u001b[0m 3s/step - acc: 0.9102 - loss: 0.1874\n",
            "Epoch 1: val_loss improved from inf to 0.07209, saving model to /content/drive/My Drive/cs230 project self/saved models/model2-001-0.959919-0.973749.keras\n",
            "\u001b[1m77/77\u001b[0m \u001b[32m━━━━━━━━━━━━━━━━━━━━\u001b[0m\u001b[37m\u001b[0m \u001b[1m257s\u001b[0m 3s/step - acc: 0.9108 - loss: 0.1864 - val_acc: 0.9737 - val_loss: 0.0721\n",
            "Epoch 2/3\n",
            "\u001b[1m77/77\u001b[0m \u001b[32m━━━━━━━━━━━━━━━━━━━━\u001b[0m\u001b[37m\u001b[0m \u001b[1m0s\u001b[0m 3s/step - acc: 0.9865 - loss: 0.0429\n",
            "Epoch 2: val_loss did not improve from 0.07209\n",
            "\u001b[1m77/77\u001b[0m \u001b[32m━━━━━━━━━━━━━━━━━━━━\u001b[0m\u001b[37m\u001b[0m \u001b[1m262s\u001b[0m 3s/step - acc: 0.9865 - loss: 0.0429 - val_acc: 0.9752 - val_loss: 0.0768\n",
            "Epoch 3/3\n",
            "\u001b[1m77/77\u001b[0m \u001b[32m━━━━━━━━━━━━━━━━━━━━\u001b[0m\u001b[37m\u001b[0m \u001b[1m0s\u001b[0m 3s/step - acc: 0.9816 - loss: 0.0600\n",
            "Epoch 3: val_loss did not improve from 0.07209\n",
            "\u001b[1m77/77\u001b[0m \u001b[32m━━━━━━━━━━━━━━━━━━━━\u001b[0m\u001b[37m\u001b[0m \u001b[1m263s\u001b[0m 3s/step - acc: 0.9815 - loss: 0.0602 - val_acc: 0.9540 - val_loss: 0.1423\n"
          ]
        }
      ]
    },
    {
      "cell_type": "code",
      "source": [
        "# Basic LSTM model with 1 learn rate and 1000 batch size\n",
        "lstm_model3 = Sequential()\n",
        "lstm_model3.add(Embedding(1+len(vocab),20,input_length=1400))\n",
        "lstm_model3.add(LSTM(20))\n",
        "lstm_model3.add(Dense(2, activation='softmax'))\n",
        "checkpoint3 = ModelCheckpoint('/content/drive/My Drive/cs230 project self/saved models/model3-{epoch:03d}-{acc:03f}-{val_acc:03f}.keras', verbose=1, monitor='val_loss',save_best_only=True, mode='auto')\n",
        "lstm_model3.compile(loss='binary_crossentropy', optimizer=keras.optimizers.Adam(1.0), metrics=['acc'])\n",
        "values3=lstm_model3.fit(x_train_vec,keras.utils.to_categorical(y_train,num_classes=2),epochs=3,batch_size=1000,validation_data=(x_cv_vec,keras.utils.to_categorical(y_cv,num_classes=2)),callbacks=[checkpoint3])\n",
        "with open('/content/drive/My Drive/cs230 project self/saved models/lstm_model3_history.json', 'w') as f:\n",
        "    json.dump(values3.history, f)"
      ],
      "metadata": {
        "colab": {
          "base_uri": "https://localhost:8080/",
          "height": 384
        },
        "id": "npheG_VjFf4a",
        "outputId": "b0abe84f-89ad-4df5-a5f6-bee435b83fa4"
      },
      "execution_count": 17,
      "outputs": [
        {
          "output_type": "stream",
          "name": "stdout",
          "text": [
            "Epoch 1/3\n",
            "\u001b[1m77/77\u001b[0m \u001b[32m━━━━━━━━━━━━━━━━━━━━\u001b[0m\u001b[37m\u001b[0m \u001b[1m0s\u001b[0m 3s/step - acc: 0.6350 - loss: 0.8725\n",
            "Epoch 1: val_loss improved from inf to 0.61424, saving model to /content/drive/My Drive/cs230 project self/saved models/model3-001-0.661277-0.685815.keras\n",
            "\u001b[1m77/77\u001b[0m \u001b[32m━━━━━━━━━━━━━━━━━━━━\u001b[0m\u001b[37m\u001b[0m \u001b[1m277s\u001b[0m 4s/step - acc: 0.6353 - loss: 0.8704 - val_acc: 0.6858 - val_loss: 0.6142\n",
            "Epoch 2/3\n",
            "\u001b[1m77/77\u001b[0m \u001b[32m━━━━━━━━━━━━━━━━━━━━\u001b[0m\u001b[37m\u001b[0m \u001b[1m0s\u001b[0m 4s/step - acc: 0.6761 - loss: 0.6155\n",
            "Epoch 2: val_loss improved from 0.61424 to 0.59456, saving model to /content/drive/My Drive/cs230 project self/saved models/model3-002-0.676857-0.686875.keras\n",
            "\u001b[1m77/77\u001b[0m \u001b[32m━━━━━━━━━━━━━━━━━━━━\u001b[0m\u001b[37m\u001b[0m \u001b[1m337s\u001b[0m 4s/step - acc: 0.6761 - loss: 0.6154 - val_acc: 0.6869 - val_loss: 0.5946\n",
            "Epoch 3/3\n",
            "\u001b[1m77/77\u001b[0m \u001b[32m━━━━━━━━━━━━━━━━━━━━\u001b[0m\u001b[37m\u001b[0m \u001b[1m0s\u001b[0m 4s/step - acc: 0.6863 - loss: 0.5946\n",
            "Epoch 3: val_loss did not improve from 0.59456\n",
            "\u001b[1m77/77\u001b[0m \u001b[32m━━━━━━━━━━━━━━━━━━━━\u001b[0m\u001b[37m\u001b[0m \u001b[1m325s\u001b[0m 4s/step - acc: 0.6863 - loss: 0.5946 - val_acc: 0.6895 - val_loss: 0.6066\n"
          ]
        },
        {
          "output_type": "error",
          "ename": "NameError",
          "evalue": "name 'json' is not defined",
          "traceback": [
            "\u001b[0;31m---------------------------------------------------------------------------\u001b[0m",
            "\u001b[0;31mNameError\u001b[0m                                 Traceback (most recent call last)",
            "\u001b[0;32m<ipython-input-17-f919ba792b1a>\u001b[0m in \u001b[0;36m<cell line: 9>\u001b[0;34m()\u001b[0m\n\u001b[1;32m      8\u001b[0m \u001b[0mvalues3\u001b[0m\u001b[0;34m=\u001b[0m\u001b[0mlstm_model3\u001b[0m\u001b[0;34m.\u001b[0m\u001b[0mfit\u001b[0m\u001b[0;34m(\u001b[0m\u001b[0mx_train_vec\u001b[0m\u001b[0;34m,\u001b[0m\u001b[0mkeras\u001b[0m\u001b[0;34m.\u001b[0m\u001b[0mutils\u001b[0m\u001b[0;34m.\u001b[0m\u001b[0mto_categorical\u001b[0m\u001b[0;34m(\u001b[0m\u001b[0my_train\u001b[0m\u001b[0;34m,\u001b[0m\u001b[0mnum_classes\u001b[0m\u001b[0;34m=\u001b[0m\u001b[0;36m2\u001b[0m\u001b[0;34m)\u001b[0m\u001b[0;34m,\u001b[0m\u001b[0mepochs\u001b[0m\u001b[0;34m=\u001b[0m\u001b[0;36m3\u001b[0m\u001b[0;34m,\u001b[0m\u001b[0mbatch_size\u001b[0m\u001b[0;34m=\u001b[0m\u001b[0;36m1000\u001b[0m\u001b[0;34m,\u001b[0m\u001b[0mvalidation_data\u001b[0m\u001b[0;34m=\u001b[0m\u001b[0;34m(\u001b[0m\u001b[0mx_cv_vec\u001b[0m\u001b[0;34m,\u001b[0m\u001b[0mkeras\u001b[0m\u001b[0;34m.\u001b[0m\u001b[0mutils\u001b[0m\u001b[0;34m.\u001b[0m\u001b[0mto_categorical\u001b[0m\u001b[0;34m(\u001b[0m\u001b[0my_cv\u001b[0m\u001b[0;34m,\u001b[0m\u001b[0mnum_classes\u001b[0m\u001b[0;34m=\u001b[0m\u001b[0;36m2\u001b[0m\u001b[0;34m)\u001b[0m\u001b[0;34m)\u001b[0m\u001b[0;34m,\u001b[0m\u001b[0mcallbacks\u001b[0m\u001b[0;34m=\u001b[0m\u001b[0;34m[\u001b[0m\u001b[0mcheckpoint3\u001b[0m\u001b[0;34m]\u001b[0m\u001b[0;34m)\u001b[0m\u001b[0;34m\u001b[0m\u001b[0;34m\u001b[0m\u001b[0m\n\u001b[1;32m      9\u001b[0m \u001b[0;32mwith\u001b[0m \u001b[0mopen\u001b[0m\u001b[0;34m(\u001b[0m\u001b[0;34m'/content/drive/My Drive/cs230 project self/saved models/lstm_model3_history.json'\u001b[0m\u001b[0;34m,\u001b[0m \u001b[0;34m'w'\u001b[0m\u001b[0;34m)\u001b[0m \u001b[0;32mas\u001b[0m \u001b[0mf\u001b[0m\u001b[0;34m:\u001b[0m\u001b[0;34m\u001b[0m\u001b[0;34m\u001b[0m\u001b[0m\n\u001b[0;32m---> 10\u001b[0;31m     \u001b[0mjson\u001b[0m\u001b[0;34m.\u001b[0m\u001b[0mdump\u001b[0m\u001b[0;34m(\u001b[0m\u001b[0mvalues3\u001b[0m\u001b[0;34m.\u001b[0m\u001b[0mhistory\u001b[0m\u001b[0;34m,\u001b[0m \u001b[0mf\u001b[0m\u001b[0;34m)\u001b[0m\u001b[0;34m\u001b[0m\u001b[0;34m\u001b[0m\u001b[0m\n\u001b[0m",
            "\u001b[0;31mNameError\u001b[0m: name 'json' is not defined"
          ]
        }
      ]
    },
    {
      "cell_type": "code",
      "source": [
        "import json\n",
        "with open('/content/drive/My Drive/cs230 project self/saved models/lstm_model3_history.json', 'w') as f:\n",
        "    json.dump(values3.history, f)"
      ],
      "metadata": {
        "id": "U790FxaxqmA2"
      },
      "execution_count": 18,
      "outputs": []
    },
    {
      "cell_type": "code",
      "source": [
        "# Basic LSTM model with 0.01 learn rate and 100 batch size\n",
        "lstm_model4 = Sequential()\n",
        "lstm_model4.add(Embedding(1+len(vocab),20,input_length=1400))\n",
        "lstm_model4.add(LSTM(20))\n",
        "lstm_model4.add(Dense(2, activation='softmax'))\n",
        "checkpoint4 = ModelCheckpoint('/content/drive/My Drive/cs230 project self/saved models/model4-{epoch:03d}-{acc:03f}-{val_acc:03f}.keras', verbose=1, monitor='val_loss',save_best_only=True, mode='auto')\n",
        "lstm_model4.compile(loss='binary_crossentropy', optimizer=keras.optimizers.Adam(0.01), metrics=['acc'])\n",
        "values4=lstm_model4.fit(x_train_vec,keras.utils.to_categorical(y_train,num_classes=2),epochs=3,batch_size=100,validation_data=(x_cv_vec,keras.utils.to_categorical(y_cv,num_classes=2)),callbacks=[checkpoint4])\n",
        "with open('/content/drive/My Drive/cs230 project self/saved models/lstm_model4_history.json', 'w') as f:\n",
        "    json.dump(values4.history, f)"
      ],
      "metadata": {
        "colab": {
          "base_uri": "https://localhost:8080/"
        },
        "id": "XuyxCz-oGKZM",
        "outputId": "fa91b6ea-784e-414c-925b-46fdd394219d"
      },
      "execution_count": 19,
      "outputs": [
        {
          "output_type": "stream",
          "name": "stdout",
          "text": [
            "Epoch 1/3\n",
            "\u001b[1m765/765\u001b[0m \u001b[32m━━━━━━━━━━━━━━━━━━━━\u001b[0m\u001b[37m\u001b[0m \u001b[1m0s\u001b[0m 860ms/step - acc: 0.9512 - loss: 0.1326\n",
            "Epoch 1: val_loss improved from inf to 0.03790, saving model to /content/drive/My Drive/cs230 project self/saved models/model4-001-0.974950-0.986933.keras\n",
            "\u001b[1m765/765\u001b[0m \u001b[32m━━━━━━━━━━━━━━━━━━━━\u001b[0m\u001b[37m\u001b[0m \u001b[1m678s\u001b[0m 881ms/step - acc: 0.9512 - loss: 0.1325 - val_acc: 0.9869 - val_loss: 0.0379\n",
            "Epoch 2/3\n",
            "\u001b[1m765/765\u001b[0m \u001b[32m━━━━━━━━━━━━━━━━━━━━\u001b[0m\u001b[37m\u001b[0m \u001b[1m0s\u001b[0m 865ms/step - acc: 0.9947 - loss: 0.0174\n",
            "Epoch 2: val_loss did not improve from 0.03790\n",
            "\u001b[1m765/765\u001b[0m \u001b[32m━━━━━━━━━━━━━━━━━━━━\u001b[0m\u001b[37m\u001b[0m \u001b[1m684s\u001b[0m 884ms/step - acc: 0.9947 - loss: 0.0174 - val_acc: 0.9869 - val_loss: 0.0415\n",
            "Epoch 3/3\n",
            "\u001b[1m765/765\u001b[0m \u001b[32m━━━━━━━━━━━━━━━━━━━━\u001b[0m\u001b[37m\u001b[0m \u001b[1m0s\u001b[0m 852ms/step - acc: 0.9985 - loss: 0.0057\n",
            "Epoch 3: val_loss did not improve from 0.03790\n",
            "\u001b[1m765/765\u001b[0m \u001b[32m━━━━━━━━━━━━━━━━━━━━\u001b[0m\u001b[37m\u001b[0m \u001b[1m667s\u001b[0m 871ms/step - acc: 0.9985 - loss: 0.0057 - val_acc: 0.9843 - val_loss: 0.0620\n"
          ]
        }
      ]
    },
    {
      "cell_type": "code",
      "source": [
        "# Basic LSTM model with 0.01 learn rate and 10 batch size\n",
        "lstm_model5 = Sequential()\n",
        "lstm_model5.add(Embedding(1+len(vocab),20,input_length=1400))\n",
        "lstm_model5.add(LSTM(20))\n",
        "lstm_model5.add(Dense(2, activation='softmax'))\n",
        "checkpoint5 = ModelCheckpoint('/content/drive/My Drive/cs230 project self/saved models/model5-{epoch:03d}-{acc:03f}-{val_acc:03f}.keras', verbose=1, monitor='val_loss',save_best_only=True, mode='auto')\n",
        "lstm_model5.compile(loss='binary_crossentropy', optimizer=keras.optimizers.Adam(0.01), metrics=['acc'])\n",
        "values5=lstm_model5.fit(x_train_vec,keras.utils.to_categorical(y_train,num_classes=2),epochs=3,batch_size=10,validation_data=(x_cv_vec,keras.utils.to_categorical(y_cv,num_classes=2)),callbacks=[checkpoint5])\n",
        "with open('/content/drive/My Drive/cs230 project self/saved models/lstm_model5_history.json', 'w') as f:\n",
        "    json.dump(values5.history, f)"
      ],
      "metadata": {
        "colab": {
          "base_uri": "https://localhost:8080/"
        },
        "id": "q13aOlZvGKeb",
        "outputId": "43805e49-1af4-4fd4-eb59-04fef2d95161"
      },
      "execution_count": 20,
      "outputs": [
        {
          "output_type": "stream",
          "name": "stdout",
          "text": [
            "Epoch 1/3\n",
            "\u001b[1m7645/7645\u001b[0m \u001b[32m━━━━━━━━━━━━━━━━━━━━\u001b[0m\u001b[37m\u001b[0m \u001b[1m0s\u001b[0m 650ms/step - acc: 0.9659 - loss: 0.0954\n",
            "Epoch 1: val_loss improved from inf to 0.05150, saving model to /content/drive/My Drive/cs230 project self/saved models/model5-001-0.975028-0.981165.keras\n",
            "\u001b[1m7645/7645\u001b[0m \u001b[32m━━━━━━━━━━━━━━━━━━━━\u001b[0m\u001b[37m\u001b[0m \u001b[1m5048s\u001b[0m 660ms/step - acc: 0.9659 - loss: 0.0954 - val_acc: 0.9812 - val_loss: 0.0515\n",
            "Epoch 2/3\n",
            "\u001b[1m7645/7645\u001b[0m \u001b[32m━━━━━━━━━━━━━━━━━━━━\u001b[0m\u001b[37m\u001b[0m \u001b[1m0s\u001b[0m 648ms/step - acc: 0.9869 - loss: 0.0405\n",
            "Epoch 2: val_loss did not improve from 0.05150\n",
            "\u001b[1m7645/7645\u001b[0m \u001b[32m━━━━━━━━━━━━━━━━━━━━\u001b[0m\u001b[37m\u001b[0m \u001b[1m5051s\u001b[0m 659ms/step - acc: 0.9869 - loss: 0.0405 - val_acc: 0.9830 - val_loss: 0.0542\n",
            "Epoch 3/3\n",
            "\u001b[1m7645/7645\u001b[0m \u001b[32m━━━━━━━━━━━━━━━━━━━━\u001b[0m\u001b[37m\u001b[0m \u001b[1m0s\u001b[0m 647ms/step - acc: 0.9896 - loss: 0.0330\n",
            "Epoch 3: val_loss did not improve from 0.05150\n",
            "\u001b[1m7645/7645\u001b[0m \u001b[32m━━━━━━━━━━━━━━━━━━━━\u001b[0m\u001b[37m\u001b[0m \u001b[1m5052s\u001b[0m 657ms/step - acc: 0.9896 - loss: 0.0330 - val_acc: 0.9798 - val_loss: 0.0595\n"
          ]
        }
      ]
    },
    {
      "cell_type": "code",
      "source": [
        "model_paths = ['/content/drive/My Drive/cs230 project self/saved models/model1-002-0.993766-0.987508.keras',\n",
        "               '/content/drive/My Drive/cs230 project self/saved models/model2-001-0.961586-0.961187.keras',\n",
        "               '/content/drive/My Drive/cs230 project self/saved models/model3-003-0.703124-0.684140.keras',\n",
        "               '/content/drive/My Drive/cs230 project self/saved models/model4-002-0.988318-0.983939.keras',\n",
        "               '/content/drive/My Drive/cs230 project self/saved models/model5-002-0.986675-0.980593.keras'\n",
        "]"
      ],
      "metadata": {
        "id": "lDBSFp4TIKKP"
      },
      "execution_count": 52,
      "outputs": []
    },
    {
      "cell_type": "code",
      "source": [
        "from tensorflow.keras.utils import to_categorical\n",
        "# Placeholder for evaluation results\n",
        "results = {}\n",
        "\n",
        "# Loop through each model, load it, and evaluate on x_test_vec\n",
        "for model_path in model_paths:\n",
        "    # Load the model\n",
        "    model = load_model(model_path)\n",
        "\n",
        "    # Evaluate the model on the test data\n",
        "    y_test_one_hot = to_categorical(y_test, num_classes=2)\n",
        "\n",
        "# Now you can evaluate the model\n",
        "    loss, accuracy = model.evaluate(x_test_vec, y_test_one_hot, verbose=0)\n",
        "    #loss, accuracy = model.evaluate(x_test_vec, y_test, verbose=0)\n",
        "\n",
        "    # Store the results\n",
        "    results[model_path] = {\"loss\": loss, \"accuracy\": accuracy}\n",
        "\n",
        "# Print evaluation results for each model\n",
        "for model_path, result in results.items():\n",
        "    print(f\"Model: {model_path}\")\n",
        "    print(f\"  Loss: {result['loss']:.4f}\")\n",
        "    print(f\"  Accuracy: {result['accuracy']:.4f}\")\n"
      ],
      "metadata": {
        "colab": {
          "base_uri": "https://localhost:8080/"
        },
        "id": "Uh7df3KQCY_S",
        "outputId": "442e19ed-eae4-49bc-8a48-96005928fed9"
      },
      "execution_count": 57,
      "outputs": [
        {
          "output_type": "stream",
          "name": "stdout",
          "text": [
            "Model: /content/drive/My Drive/cs230 project self/saved models/model1-002-0.993766-0.987508.keras\n",
            "  Loss: 0.0451\n",
            "  Accuracy: 0.9841\n",
            "Model: /content/drive/My Drive/cs230 project self/saved models/model2-001-0.961586-0.961187.keras\n",
            "  Loss: 0.1431\n",
            "  Accuracy: 0.9574\n",
            "Model: /content/drive/My Drive/cs230 project self/saved models/model3-003-0.703124-0.684140.keras\n",
            "  Loss: 0.5903\n",
            "  Accuracy: 0.6860\n",
            "Model: /content/drive/My Drive/cs230 project self/saved models/model4-002-0.988318-0.983939.keras\n",
            "  Loss: 0.0584\n",
            "  Accuracy: 0.9850\n",
            "Model: /content/drive/My Drive/cs230 project self/saved models/model5-002-0.986675-0.980593.keras\n",
            "  Loss: 0.0551\n",
            "  Accuracy: 0.9822\n"
          ]
        }
      ]
    },
    {
      "cell_type": "code",
      "source": [
        "# File paths for the saved JSON histories\n",
        "history_files = [\n",
        "    '/content/drive/My Drive/cs230 project self/saved models/lstm_model1_history.json',\n",
        "    '/content/drive/My Drive/cs230 project self/saved models/lstm_model2_history.json',\n",
        "    '/content/drive/My Drive/cs230 project self/saved models/lstm_model3_history.json',\n",
        "    '/content/drive/My Drive/cs230 project self/saved models/lstm_model4_history.json',\n",
        "    '/content/drive/My Drive/cs230 project self/saved models/lstm_model5_history.json'\n",
        "]\n",
        "\n",
        "# Set up the figure with 2 rows and 3 columns\n",
        "fig, axes = plt.subplots(2, 3, figsize=(15, 10))\n",
        "\n",
        "# Flatten axes array for easy indexing (ignoring extra subplot space)\n",
        "axes = axes.flatten()\n",
        "\n",
        "# Loop through each model and plot the loss\n",
        "for i, history_file in enumerate(history_files):\n",
        "    # Load the history\n",
        "    with open(history_file, 'r') as f:\n",
        "        history = json.load(f)\n",
        "\n",
        "    # Extract loss and validation loss\n",
        "    loss = history['loss']\n",
        "    val_loss = history['val_loss']\n",
        "    epochs = range(1, len(loss) + 1)\n",
        "\n",
        "    # Plot in the respective subplot\n",
        "    ax = axes[i]\n",
        "    ax.plot(epochs, loss, label='Training Loss', marker='o')\n",
        "    ax.plot(epochs, val_loss, label='Validation Loss', marker='x')\n",
        "    if i == 0:\n",
        "      ax.set_title('Base')\n",
        "    else:\n",
        "      ax.set_title(f'C{i}')\n",
        "    ax.set_xlabel('Epochs')\n",
        "    ax.set_ylabel('Loss')\n",
        "    ax.set_xlim(1, 3)\n",
        "    ax.set_ylim(0, 1)\n",
        "    ax.legend()\n",
        "\n",
        "# Remove unused subplot (if any)\n",
        "for j in range(len(history_files), len(axes)):\n",
        "    fig.delaxes(axes[j])\n",
        "\n",
        "# Adjust layout\n",
        "plt.tight_layout(rect=[0, 0, 1, 0.95])\n",
        "fig.suptitle('Training and Validation Loss Across LSTM Models', fontsize=16)\n",
        "plt.show()\n"
      ],
      "metadata": {
        "colab": {
          "base_uri": "https://localhost:8080/",
          "height": 1000
        },
        "id": "KinTmtL0Kjv0",
        "outputId": "0573a198-5d21-4466-ade4-e4aaec12a8ae"
      },
      "execution_count": 24,
      "outputs": [
        {
          "output_type": "display_data",
          "data": {
            "text/plain": [
              "<Figure size 1500x1000 with 5 Axes>"
            ],
            "image/png": "[encoded data removed]"
          },
          "metadata": {}
        }
      ]
    },
    {
      "cell_type": "code",
      "source": [
        "# Set up the figure with 2 rows and 3 columns\n",
        "fig, axes = plt.subplots(2, 3, figsize=(15, 10))\n",
        "\n",
        "# Flatten axes array for easy indexing (ignoring extra subplot space)\n",
        "axes = axes.flatten()\n",
        "\n",
        "# Loop through each model and plot the accuracy\n",
        "for i, history_file in enumerate(history_files):\n",
        "    # Load the history\n",
        "    with open(history_file, 'r') as f:\n",
        "        history = json.load(f)\n",
        "\n",
        "    # Extract accuracy and validation accuracy\n",
        "    acc = history['acc']\n",
        "    val_acc = history['val_acc']\n",
        "    epochs = range(1, len(acc) + 1)\n",
        "\n",
        "    # Plot in the respective subplot\n",
        "    ax = axes[i]\n",
        "    ax.plot(epochs, acc, label='Training Accuracy', marker='o')\n",
        "    ax.plot(epochs, val_acc, label='Validation Accuracy', marker='x')\n",
        "    if i == 0:\n",
        "      ax.set_title('Base')\n",
        "    else:\n",
        "      ax.set_title(f'C{i}')\n",
        "    ax.set_xlabel('Epochs')\n",
        "    ax.set_ylabel('Accuracy')\n",
        "    ax.set_xlim(1, 3)\n",
        "    ax.set_ylim(0, 1.1)\n",
        "    ax.legend()\n",
        "\n",
        "# Remove unused subplot (if any)\n",
        "for j in range(len(history_files), len(axes)):\n",
        "    fig.delaxes(axes[j])\n",
        "\n",
        "# Adjust layout\n",
        "plt.tight_layout(rect=[0, 0, 1, 0.95])\n",
        "fig.suptitle('Training and Validation Accuracy Across LSTM Models', fontsize=16)\n",
        "plt.show()\n"
      ],
      "metadata": {
        "colab": {
          "base_uri": "https://localhost:8080/",
          "height": 1000
        },
        "id": "g6rq9nAuhJIG",
        "outputId": "b763e22c-b01d-4733-d8b0-bcd43b611eea"
      },
      "execution_count": 23,
      "outputs": [
        {
          "output_type": "display_data",
          "data": {
            "text/plain": [
              "<Figure size 1500x1000 with 5 Axes>"
            ],
            "image/png": "[encoded data removed]"
          },
          "metadata": {}
        }
      ]
    }
  ]
}