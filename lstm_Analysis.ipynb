{
  "nbformat": 4,
  "nbformat_minor": 0,
  "metadata": {
    "colab": {
      "provenance": []
    },
    "kernelspec": {
      "name": "python3",
      "display_name": "Python 3"
    },
    "language_info": {
      "name": "python"
    }
  },
  "cells": [
    {
      "cell_type": "code",
      "execution_count": 2,
      "metadata": {
        "colab": {
          "base_uri": "https://localhost:8080/"
        },
        "id": "aUDxLPQxepXK",
        "outputId": "06bb611f-8c70-44e2-c224-a12ff08d1688"
      },
      "outputs": [
        {
          "output_type": "stream",
          "name": "stdout",
          "text": [
            "Requirement already satisfied: keras-metrics in /usr/local/lib/python3.10/dist-packages (1.1.0)\n",
            "Requirement already satisfied: Keras>=2.1.5 in /usr/local/lib/python3.10/dist-packages (from keras-metrics) (3.5.0)\n",
            "Requirement already satisfied: absl-py in /usr/local/lib/python3.10/dist-packages (from Keras>=2.1.5->keras-metrics) (1.4.0)\n",
            "Requirement already satisfied: numpy in /usr/local/lib/python3.10/dist-packages (from Keras>=2.1.5->keras-metrics) (1.26.4)\n",
            "Requirement already satisfied: rich in /usr/local/lib/python3.10/dist-packages (from Keras>=2.1.5->keras-metrics) (13.9.4)\n",
            "Requirement already satisfied: namex in /usr/local/lib/python3.10/dist-packages (from Keras>=2.1.5->keras-metrics) (0.0.8)\n",
            "Requirement already satisfied: h5py in /usr/local/lib/python3.10/dist-packages (from Keras>=2.1.5->keras-metrics) (3.12.1)\n",
            "Requirement already satisfied: optree in /usr/local/lib/python3.10/dist-packages (from Keras>=2.1.5->keras-metrics) (0.13.1)\n",
            "Requirement already satisfied: ml-dtypes in /usr/local/lib/python3.10/dist-packages (from Keras>=2.1.5->keras-metrics) (0.4.1)\n",
            "Requirement already satisfied: packaging in /usr/local/lib/python3.10/dist-packages (from Keras>=2.1.5->keras-metrics) (24.2)\n",
            "Requirement already satisfied: typing-extensions>=4.5.0 in /usr/local/lib/python3.10/dist-packages (from optree->Keras>=2.1.5->keras-metrics) (4.12.2)\n",
            "Requirement already satisfied: markdown-it-py>=2.2.0 in /usr/local/lib/python3.10/dist-packages (from rich->Keras>=2.1.5->keras-metrics) (3.0.0)\n",
            "Requirement already satisfied: pygments<3.0.0,>=2.13.0 in /usr/local/lib/python3.10/dist-packages (from rich->Keras>=2.1.5->keras-metrics) (2.18.0)\n",
            "Requirement already satisfied: mdurl~=0.1 in /usr/local/lib/python3.10/dist-packages (from markdown-it-py>=2.2.0->rich->Keras>=2.1.5->keras-metrics) (0.1.2)\n",
            "Requirement already satisfied: scikit-plot in /usr/local/lib/python3.10/dist-packages (0.3.7)\n",
            "Requirement already satisfied: matplotlib>=1.4.0 in /usr/local/lib/python3.10/dist-packages (from scikit-plot) (3.8.0)\n",
            "Requirement already satisfied: scikit-learn>=0.18 in /usr/local/lib/python3.10/dist-packages (from scikit-plot) (1.5.2)\n",
            "Requirement already satisfied: scipy>=0.9 in /usr/local/lib/python3.10/dist-packages (from scikit-plot) (1.13.1)\n",
            "Requirement already satisfied: joblib>=0.10 in /usr/local/lib/python3.10/dist-packages (from scikit-plot) (1.4.2)\n",
            "Requirement already satisfied: contourpy>=1.0.1 in /usr/local/lib/python3.10/dist-packages (from matplotlib>=1.4.0->scikit-plot) (1.3.1)\n",
            "Requirement already satisfied: cycler>=0.10 in /usr/local/lib/python3.10/dist-packages (from matplotlib>=1.4.0->scikit-plot) (0.12.1)\n",
            "Requirement already satisfied: fonttools>=4.22.0 in /usr/local/lib/python3.10/dist-packages (from matplotlib>=1.4.0->scikit-plot) (4.55.0)\n",
            "Requirement already satisfied: kiwisolver>=1.0.1 in /usr/local/lib/python3.10/dist-packages (from matplotlib>=1.4.0->scikit-plot) (1.4.7)\n",
            "Requirement already satisfied: numpy<2,>=1.21 in /usr/local/lib/python3.10/dist-packages (from matplotlib>=1.4.0->scikit-plot) (1.26.4)\n",
            "Requirement already satisfied: packaging>=20.0 in /usr/local/lib/python3.10/dist-packages (from matplotlib>=1.4.0->scikit-plot) (24.2)\n",
            "Requirement already satisfied: pillow>=6.2.0 in /usr/local/lib/python3.10/dist-packages (from matplotlib>=1.4.0->scikit-plot) (11.0.0)\n",
            "Requirement already satisfied: pyparsing>=2.3.1 in /usr/local/lib/python3.10/dist-packages (from matplotlib>=1.4.0->scikit-plot) (3.2.0)\n",
            "Requirement already satisfied: python-dateutil>=2.7 in /usr/local/lib/python3.10/dist-packages (from matplotlib>=1.4.0->scikit-plot) (2.8.2)\n",
            "Requirement already satisfied: threadpoolctl>=3.1.0 in /usr/local/lib/python3.10/dist-packages (from scikit-learn>=0.18->scikit-plot) (3.5.0)\n",
            "Requirement already satisfied: six>=1.5 in /usr/local/lib/python3.10/dist-packages (from python-dateutil>=2.7->matplotlib>=1.4.0->scikit-plot) (1.16.0)\n",
            "Requirement already satisfied: scipy in /usr/local/lib/python3.10/dist-packages (1.13.1)\n",
            "Requirement already satisfied: numpy<2.3,>=1.22.4 in /usr/local/lib/python3.10/dist-packages (from scipy) (1.26.4)\n"
          ]
        },
        {
          "output_type": "stream",
          "name": "stderr",
          "text": [
            "[nltk_data] Downloading package punkt_tab to /root/nltk_data...\n",
            "[nltk_data]   Package punkt_tab is already up-to-date!\n",
            "[nltk_data] Downloading package stopwords to /root/nltk_data...\n",
            "[nltk_data]   Package stopwords is already up-to-date!\n",
            "[nltk_data] Downloading package wordnet to /root/nltk_data...\n",
            "[nltk_data]   Package wordnet is already up-to-date!\n"
          ]
        }
      ],
      "source": [
        "import h5py\n",
        "import numpy as np\n",
        "import tensorflow as tf\n",
        "import matplotlib.pyplot as plt\n",
        "from tensorflow.python.framework.ops import EagerTensor\n",
        "from tensorflow.python.ops.resource_variable_ops import ResourceVariable\n",
        "import time\n",
        "!pip install keras-metrics\n",
        "!pip install scikit-plot\n",
        "!pip install scipy\n",
        "import pandas as pd\n",
        "import re\n",
        "import nltk\n",
        "nltk.download('punkt_tab')\n",
        "from nltk.tokenize import word_tokenize\n",
        "from nltk.corpus import stopwords\n",
        "nltk.download('stopwords')\n",
        "nltk.download('wordnet')\n",
        "from nltk.stem import WordNetLemmatizer\n",
        "lemmatizer = WordNetLemmatizer()\n",
        "from tqdm import tqdm\n",
        "import pickle\n",
        "from collections import Counter\n",
        "import operator\n",
        "import matplotlib.pyplot as plt\n",
        "from sklearn.model_selection import train_test_split\n",
        "import numpy as np\n",
        "from sklearn.metrics import confusion_matrix\n",
        "from sklearn import metrics\n",
        "import warnings\n",
        "warnings.filterwarnings(\"ignore\")\n",
        "from keras.models import Sequential\n",
        "from keras.layers import Dense\n",
        "from keras.layers import LSTM\n",
        "from keras.layers import Embedding\n",
        "from keras.preprocessing import sequence\n",
        "from keras.layers import Dropout\n",
        "from IPython.display import display\n",
        "import keras_metrics\n",
        "import keras\n",
        "import matplotlib.pyplot as plt\n",
        "from keras.models import load_model\n",
        "from keras.callbacks import ModelCheckpoint, EarlyStopping\n",
        "#import scikitplot as skplt\n",
        "from keras.layers import Dense, Dropout, Embedding, LSTM, Bidirectional"
      ]
    },
    {
      "cell_type": "code",
      "source": [
        "from google.colab import drive\n",
        "drive.mount('/content/drive')"
      ],
      "metadata": {
        "colab": {
          "base_uri": "https://localhost:8080/"
        },
        "id": "Qtkg1q20ew0o",
        "outputId": "d7abf348-2714-4b3e-8ab0-dcf475464c93"
      },
      "execution_count": 3,
      "outputs": [
        {
          "output_type": "stream",
          "name": "stdout",
          "text": [
            "Mounted at /content/drive\n"
          ]
        }
      ]
    },
    {
      "cell_type": "code",
      "source": [
        "total_data = pd.read_csv(\"/content/drive/My Drive/cs230 project self/facts_opinions.csv\")\n",
        "total_data.head()"
      ],
      "metadata": {
        "colab": {
          "base_uri": "https://localhost:8080/",
          "height": 206
        },
        "id": "fBZoFED1ew3i",
        "outputId": "27417dd6-c7bb-4bb2-c2fe-1cba5469a5b5"
      },
      "execution_count": 4,
      "outputs": [
        {
          "output_type": "execute_result",
          "data": {
            "text/plain": [
              "                                                Text  Label\n",
              "0  One of the other reviewers has mentioned that ...      0\n",
              "1  A wonderful little production. <br /><br />The...      0\n",
              "2  I thought this was a wonderful way to spend ti...      0\n",
              "3  Basically there's a family where a little boy ...      0\n",
              "4  Petter Mattei's \"Love in the Time of Money\" is...      0"
            ],
            "text/html": [
              "\n",
              "  <div id=\"df-7cd3a879-dbe5-4dce-913f-bb34d5ce1bd2\" class=\"colab-df-container\">\n",
              "    <div>\n",
              "<style scoped>\n",
              "    .dataframe tbody tr th:only-of-type {\n",
              "        vertical-align: middle;\n",
              "    }\n",
              "\n",
              "    .dataframe tbody tr th {\n",
              "        vertical-align: top;\n",
              "    }\n",
              "\n",
              "    .dataframe thead th {\n",
              "        text-align: right;\n",
              "    }\n",
              "</style>\n",
              "<table border=\"1\" class=\"dataframe\">\n",
              "  <thead>\n",
              "    <tr style=\"text-align: right;\">\n",
              "      <th></th>\n",
              "      <th>Text</th>\n",
              "      <th>Label</th>\n",
              "    </tr>\n",
              "  </thead>\n",
              "  <tbody>\n",
              "    <tr>\n",
              "      <th>0</th>\n",
              "      <td>One of the other reviewers has mentioned that ...</td>\n",
              "      <td>0</td>\n",
              "    </tr>\n",
              "    <tr>\n",
              "      <th>1</th>\n",
              "      <td>A wonderful little production. &lt;br /&gt;&lt;br /&gt;The...</td>\n",
              "      <td>0</td>\n",
              "    </tr>\n",
              "    <tr>\n",
              "      <th>2</th>\n",
              "      <td>I thought this was a wonderful way to spend ti...</td>\n",
              "      <td>0</td>\n",
              "    </tr>\n",
              "    <tr>\n",
              "      <th>3</th>\n",
              "      <td>Basically there's a family where a little boy ...</td>\n",
              "      <td>0</td>\n",
              "    </tr>\n",
              "    <tr>\n",
              "      <th>4</th>\n",
              "      <td>Petter Mattei's \"Love in the Time of Money\" is...</td>\n",
              "      <td>0</td>\n",
              "    </tr>\n",
              "  </tbody>\n",
              "</table>\n",
              "</div>\n",
              "    <div class=\"colab-df-buttons\">\n",
              "\n",
              "  <div class=\"colab-df-container\">\n",
              "    <button class=\"colab-df-convert\" onclick=\"convertToInteractive('df-7cd3a879-dbe5-4dce-913f-bb34d5ce1bd2')\"\n",
              "            title=\"Convert this dataframe to an interactive table.\"\n",
              "            style=\"display:none;\">\n",
              "\n",
              "  <svg xmlns=\"http://www.w3.org/2000/svg\" height=\"24px\" viewBox=\"0 -960 960 960\">\n",
              "    <path d=\"M120-120v-720h720v720H120Zm60-500h600v-160H180v160Zm220 220h160v-160H400v160Zm0 220h160v-160H400v160ZM180-400h160v-160H180v160Zm440 0h160v-160H620v160ZM180-180h160v-160H180v160Zm440 0h160v-160H620v160Z\"/>\n",
              "  </svg>\n",
              "    </button>\n",
              "\n",
              "  <style>\n",
              "    .colab-df-container {\n",
              "      display:flex;\n",
              "      gap: 12px;\n",
              "    }\n",
              "\n",
              "    .colab-df-convert {\n",
              "      background-color: #E8F0FE;\n",
              "      border: none;\n",
              "      border-radius: 50%;\n",
              "      cursor: pointer;\n",
              "      display: none;\n",
              "      fill: #1967D2;\n",
              "      height: 32px;\n",
              "      padding: 0 0 0 0;\n",
              "      width: 32px;\n",
              "    }\n",
              "\n",
              "    .colab-df-convert:hover {\n",
              "      background-color: #E2EBFA;\n",
              "      box-shadow: 0px 1px 2px rgba(60, 64, 67, 0.3), 0px 1px 3px 1px rgba(60, 64, 67, 0.15);\n",
              "      fill: #174EA6;\n",
              "    }\n",
              "\n",
              "    .colab-df-buttons div {\n",
              "      margin-bottom: 4px;\n",
              "    }\n",
              "\n",
              "    [theme=dark] .colab-df-convert {\n",
              "      background-color: #3B4455;\n",
              "      fill: #D2E3FC;\n",
              "    }\n",
              "\n",
              "    [theme=dark] .colab-df-convert:hover {\n",
              "      background-color: #434B5C;\n",
              "      box-shadow: 0px 1px 3px 1px rgba(0, 0, 0, 0.15);\n",
              "      filter: drop-shadow(0px 1px 2px rgba(0, 0, 0, 0.3));\n",
              "      fill: #FFFFFF;\n",
              "    }\n",
              "  </style>\n",
              "\n",
              "    <script>\n",
              "      const buttonEl =\n",
              "        document.querySelector('#df-7cd3a879-dbe5-4dce-913f-bb34d5ce1bd2 button.colab-df-convert');\n",
              "      buttonEl.style.display =\n",
              "        google.colab.kernel.accessAllowed ? 'block' : 'none';\n",
              "\n",
              "      async function convertToInteractive(key) {\n",
              "        const element = document.querySelector('#df-7cd3a879-dbe5-4dce-913f-bb34d5ce1bd2');\n",
              "        const dataTable =\n",
              "          await google.colab.kernel.invokeFunction('convertToInteractive',\n",
              "                                                    [key], {});\n",
              "        if (!dataTable) return;\n",
              "\n",
              "        const docLinkHtml = 'Like what you see? Visit the ' +\n",
              "          '<a target=\"_blank\" href=https://colab.research.google.com/notebooks/data_table.ipynb>data table notebook</a>'\n",
              "          + ' to learn more about interactive tables.';\n",
              "        element.innerHTML = '';\n",
              "        dataTable['output_type'] = 'display_data';\n",
              "        await google.colab.output.renderOutput(dataTable, element);\n",
              "        const docLink = document.createElement('div');\n",
              "        docLink.innerHTML = docLinkHtml;\n",
              "        element.appendChild(docLink);\n",
              "      }\n",
              "    </script>\n",
              "  </div>\n",
              "\n",
              "\n",
              "<div id=\"df-1151bd88-6e89-4786-9ec7-b4bec160682e\">\n",
              "  <button class=\"colab-df-quickchart\" onclick=\"quickchart('df-1151bd88-6e89-4786-9ec7-b4bec160682e')\"\n",
              "            title=\"Suggest charts\"\n",
              "            style=\"display:none;\">\n",
              "\n",
              "<svg xmlns=\"http://www.w3.org/2000/svg\" height=\"24px\"viewBox=\"0 0 24 24\"\n",
              "     width=\"24px\">\n",
              "    <g>\n",
              "        <path d=\"M19 3H5c-1.1 0-2 .9-2 2v14c0 1.1.9 2 2 2h14c1.1 0 2-.9 2-2V5c0-1.1-.9-2-2-2zM9 17H7v-7h2v7zm4 0h-2V7h2v10zm4 0h-2v-4h2v4z\"/>\n",
              "    </g>\n",
              "</svg>\n",
              "  </button>\n",
              "\n",
              "<style>\n",
              "  .colab-df-quickchart {\n",
              "      --bg-color: #E8F0FE;\n",
              "      --fill-color: #1967D2;\n",
              "      --hover-bg-color: #E2EBFA;\n",
              "      --hover-fill-color: #174EA6;\n",
              "      --disabled-fill-color: #AAA;\n",
              "      --disabled-bg-color: #DDD;\n",
              "  }\n",
              "\n",
              "  [theme=dark] .colab-df-quickchart {\n",
              "      --bg-color: #3B4455;\n",
              "      --fill-color: #D2E3FC;\n",
              "      --hover-bg-color: #434B5C;\n",
              "      --hover-fill-color: #FFFFFF;\n",
              "      --disabled-bg-color: #3B4455;\n",
              "      --disabled-fill-color: #666;\n",
              "  }\n",
              "\n",
              "  .colab-df-quickchart {\n",
              "    background-color: var(--bg-color);\n",
              "    border: none;\n",
              "    border-radius: 50%;\n",
              "    cursor: pointer;\n",
              "    display: none;\n",
              "    fill: var(--fill-color);\n",
              "    height: 32px;\n",
              "    padding: 0;\n",
              "    width: 32px;\n",
              "  }\n",
              "\n",
              "  .colab-df-quickchart:hover {\n",
              "    background-color: var(--hover-bg-color);\n",
              "    box-shadow: 0 1px 2px rgba(60, 64, 67, 0.3), 0 1px 3px 1px rgba(60, 64, 67, 0.15);\n",
              "    fill: var(--button-hover-fill-color);\n",
              "  }\n",
              "\n",
              "  .colab-df-quickchart-complete:disabled,\n",
              "  .colab-df-quickchart-complete:disabled:hover {\n",
              "    background-color: var(--disabled-bg-color);\n",
              "    fill: var(--disabled-fill-color);\n",
              "    box-shadow: none;\n",
              "  }\n",
              "\n",
              "  .colab-df-spinner {\n",
              "    border: 2px solid var(--fill-color);\n",
              "    border-color: transparent;\n",
              "    border-bottom-color: var(--fill-color);\n",
              "    animation:\n",
              "      spin 1s steps(1) infinite;\n",
              "  }\n",
              "\n",
              "  @keyframes spin {\n",
              "    0% {\n",
              "      border-color: transparent;\n",
              "      border-bottom-color: var(--fill-color);\n",
              "      border-left-color: var(--fill-color);\n",
              "    }\n",
              "    20% {\n",
              "      border-color: transparent;\n",
              "      border-left-color: var(--fill-color);\n",
              "      border-top-color: var(--fill-color);\n",
              "    }\n",
              "    30% {\n",
              "      border-color: transparent;\n",
              "      border-left-color: var(--fill-color);\n",
              "      border-top-color: var(--fill-color);\n",
              "      border-right-color: var(--fill-color);\n",
              "    }\n",
              "    40% {\n",
              "      border-color: transparent;\n",
              "      border-right-color: var(--fill-color);\n",
              "      border-top-color: var(--fill-color);\n",
              "    }\n",
              "    60% {\n",
              "      border-color: transparent;\n",
              "      border-right-color: var(--fill-color);\n",
              "    }\n",
              "    80% {\n",
              "      border-color: transparent;\n",
              "      border-right-color: var(--fill-color);\n",
              "      border-bottom-color: var(--fill-color);\n",
              "    }\n",
              "    90% {\n",
              "      border-color: transparent;\n",
              "      border-bottom-color: var(--fill-color);\n",
              "    }\n",
              "  }\n",
              "</style>\n",
              "\n",
              "  <script>\n",
              "    async function quickchart(key) {\n",
              "      const quickchartButtonEl =\n",
              "        document.querySelector('#' + key + ' button');\n",
              "      quickchartButtonEl.disabled = true;  // To prevent multiple clicks.\n",
              "      quickchartButtonEl.classList.add('colab-df-spinner');\n",
              "      try {\n",
              "        const charts = await google.colab.kernel.invokeFunction(\n",
              "            'suggestCharts', [key], {});\n",
              "      } catch (error) {\n",
              "        console.error('Error during call to suggestCharts:', error);\n",
              "      }\n",
              "      quickchartButtonEl.classList.remove('colab-df-spinner');\n",
              "      quickchartButtonEl.classList.add('colab-df-quickchart-complete');\n",
              "    }\n",
              "    (() => {\n",
              "      let quickchartButtonEl =\n",
              "        document.querySelector('#df-1151bd88-6e89-4786-9ec7-b4bec160682e button');\n",
              "      quickchartButtonEl.style.display =\n",
              "        google.colab.kernel.accessAllowed ? 'block' : 'none';\n",
              "    })();\n",
              "  </script>\n",
              "</div>\n",
              "\n",
              "    </div>\n",
              "  </div>\n"
            ],
            "application/vnd.google.colaboratory.intrinsic+json": {
              "type": "dataframe",
              "variable_name": "total_data",
              "summary": "{\n  \"name\": \"total_data\",\n  \"rows\": 94379,\n  \"fields\": [\n    {\n      \"column\": \"Text\",\n      \"properties\": {\n        \"dtype\": \"string\",\n        \"num_unique_values\": 93888,\n        \"samples\": [\n          \"A beautiful virgin inherits a castle, but when she arrives at it, she finds that the inhabitants include a strange nobleman and a bevy of beautiful women she suspects may be vampires.\",\n          \"I've seen some very terrible horror movies in my time, and while this isn't the worst of the bunch, it's certainly in the lower half. The script starts off OK. A young doctor goes to a hospital as an intern, hoping it will vault him to a better job for him and his future wife. Cute huh? The movie then heads straight into the toilet when you realize that something is killing patients. Turns out that there's a demon on the basement that's harvesting people's souls. It's the job of the 1 doctor, 1 nurse, and 1 security guard in the entire hospital staff to drag this mental patient downstairs, do a ritual that pretty much just involves cutting the tongue out, and then allowing the haunted house prop of a demon to come out and steal his soul through the magic of cheesy special effects. At this point the movie gets so ridiculously stupid, I was begging for it to be over. There was still an hour to go. It looked like a half an hour \\\"Tales From the Crypt\\\" episode that somehow got stretched into an hour and a half crap-fest. From Tiny Lister doing his best John Coffey (The Green Mile) impersonation to Tracy Scoggins playing the stereotypical frigid Nurse Ratchet, this movie fails in every possible level. I gave this 2 stars for only TWO reason. 1) His fianc\\u00e9 is pretty hot, she eased the pain a little towards the end and 2) The movie actually looks OK, a lot better than the current trend of horror movies being made with wal-mart quality home cameras.<br /><br />In the end, avoid this turd even if you have the Blockbuster movie pass (which I do, and I still felt cheated). As a bonus drinking game, you and your buddies take a shot every time Matt Stasi (Dr. James Bishop) shakes his head while talking. You'll be drunk 15 minutes into the movie.\",\n          \"A hack screenwriter writes a screenplay for a former silent-film star who has faded into Hollywood obscurity.\"\n        ],\n        \"semantic_type\": \"\",\n        \"description\": \"\"\n      }\n    },\n    {\n      \"column\": \"Label\",\n      \"properties\": {\n        \"dtype\": \"number\",\n        \"std\": 0,\n        \"min\": 0,\n        \"max\": 1,\n        \"num_unique_values\": 2,\n        \"samples\": [\n          1,\n          0\n        ],\n        \"semantic_type\": \"\",\n        \"description\": \"\"\n      }\n    }\n  ]\n}"
            }
          },
          "metadata": {},
          "execution_count": 4
        }
      ]
    },
    {
      "cell_type": "code",
      "source": [
        "def preproc(data):\n",
        "  stopword=\"\"\n",
        "  cleantext = \" \"\n",
        "  stopword = set(stopwords.words('english'))\n",
        "  for i in word_tokenize(data):\n",
        "    if(any(j.isdigit() for j in i)):\n",
        "      continue\n",
        "    i=i.lower()\n",
        "    if (i not in stopword) and (len(i)>2):\n",
        "      pattern1 = '[!.?$/\\}#=<>\"\\*:,|_~;()^\\']'\n",
        "      pattern2 = '[\\n\\n]+'\n",
        "      pattern3 = '[\\ \\ ]+'\n",
        "      wout_sc = re.sub(pattern1,'',i)\n",
        "      wout_el = re.sub(pattern2,'\\n',wout_sc)\n",
        "      wout_mspaces = re.sub(pattern3,' ',wout_el)\n",
        "      cleaned_text = wout_mspaces.strip()\n",
        "      cleaned_text=lemmatizer.lemmatize(cleaned_text)\n",
        "      if (i not in stopword) and (len(i)>2):\n",
        "        cleantext = cleantext+cleaned_text+\" \"\n",
        "  return cleantext.strip()"
      ],
      "metadata": {
        "id": "W2LkWINRew6c"
      },
      "execution_count": 5,
      "outputs": []
    },
    {
      "cell_type": "code",
      "source": [
        "for i in tqdm(range(len(total_data)),leave=True,position=0):\n",
        "  total_data.iloc[i,0] = preproc(total_data.iloc[i,0])"
      ],
      "metadata": {
        "colab": {
          "base_uri": "https://localhost:8080/"
        },
        "id": "wP6BMzPNew9X",
        "outputId": "6f758274-90c8-4648-d6f2-dc2dbbfc7946"
      },
      "execution_count": 6,
      "outputs": [
        {
          "output_type": "stream",
          "name": "stderr",
          "text": [
            "100%|██████████| 94379/94379 [05:12<00:00, 301.62it/s]\n"
          ]
        }
      ]
    },
    {
      "cell_type": "code",
      "source": [
        "pickle_file_path = \"/content/drive/My Drive/cs230 project self/facts_opinions.pkl\"\n",
        "total_data.to_pickle(pickle_file_path)"
      ],
      "metadata": {
        "id": "6I8EIBvtexAu"
      },
      "execution_count": 7,
      "outputs": []
    },
    {
      "cell_type": "code",
      "source": [
        "total_data.head()"
      ],
      "metadata": {
        "colab": {
          "base_uri": "https://localhost:8080/",
          "height": 206
        },
        "id": "ceqYso9Ce-vI",
        "outputId": "82783198-55c1-45ff-a5cc-be9629f9346c"
      },
      "execution_count": 8,
      "outputs": [
        {
          "output_type": "execute_result",
          "data": {
            "text/plain": [
              "                                                Text  Label\n",
              "0  one reviewer mentioned watching episode ll hoo...      0\n",
              "1  wonderful little production filming technique ...      0\n",
              "2  thought wonderful way spend time hot summer we...      0\n",
              "3  basically family little boy jake think zombie ...      0\n",
              "4  petter mattei love time money visually stunnin...      0"
            ],
            "text/html": [
              "\n",
              "  <div id=\"df-73e5225c-83d6-435b-a3e6-eb70476a0f75\" class=\"colab-df-container\">\n",
              "    <div>\n",
              "<style scoped>\n",
              "    .dataframe tbody tr th:only-of-type {\n",
              "        vertical-align: middle;\n",
              "    }\n",
              "\n",
              "    .dataframe tbody tr th {\n",
              "        vertical-align: top;\n",
              "    }\n",
              "\n",
              "    .dataframe thead th {\n",
              "        text-align: right;\n",
              "    }\n",
              "</style>\n",
              "<table border=\"1\" class=\"dataframe\">\n",
              "  <thead>\n",
              "    <tr style=\"text-align: right;\">\n",
              "      <th></th>\n",
              "      <th>Text</th>\n",
              "      <th>Label</th>\n",
              "    </tr>\n",
              "  </thead>\n",
              "  <tbody>\n",
              "    <tr>\n",
              "      <th>0</th>\n",
              "      <td>one reviewer mentioned watching episode ll hoo...</td>\n",
              "      <td>0</td>\n",
              "    </tr>\n",
              "    <tr>\n",
              "      <th>1</th>\n",
              "      <td>wonderful little production filming technique ...</td>\n",
              "      <td>0</td>\n",
              "    </tr>\n",
              "    <tr>\n",
              "      <th>2</th>\n",
              "      <td>thought wonderful way spend time hot summer we...</td>\n",
              "      <td>0</td>\n",
              "    </tr>\n",
              "    <tr>\n",
              "      <th>3</th>\n",
              "      <td>basically family little boy jake think zombie ...</td>\n",
              "      <td>0</td>\n",
              "    </tr>\n",
              "    <tr>\n",
              "      <th>4</th>\n",
              "      <td>petter mattei love time money visually stunnin...</td>\n",
              "      <td>0</td>\n",
              "    </tr>\n",
              "  </tbody>\n",
              "</table>\n",
              "</div>\n",
              "    <div class=\"colab-df-buttons\">\n",
              "\n",
              "  <div class=\"colab-df-container\">\n",
              "    <button class=\"colab-df-convert\" onclick=\"convertToInteractive('df-73e5225c-83d6-435b-a3e6-eb70476a0f75')\"\n",
              "            title=\"Convert this dataframe to an interactive table.\"\n",
              "            style=\"display:none;\">\n",
              "\n",
              "  <svg xmlns=\"http://www.w3.org/2000/svg\" height=\"24px\" viewBox=\"0 -960 960 960\">\n",
              "    <path d=\"M120-120v-720h720v720H120Zm60-500h600v-160H180v160Zm220 220h160v-160H400v160Zm0 220h160v-160H400v160ZM180-400h160v-160H180v160Zm440 0h160v-160H620v160ZM180-180h160v-160H180v160Zm440 0h160v-160H620v160Z\"/>\n",
              "  </svg>\n",
              "    </button>\n",
              "\n",
              "  <style>\n",
              "    .colab-df-container {\n",
              "      display:flex;\n",
              "      gap: 12px;\n",
              "    }\n",
              "\n",
              "    .colab-df-convert {\n",
              "      background-color: #E8F0FE;\n",
              "      border: none;\n",
              "      border-radius: 50%;\n",
              "      cursor: pointer;\n",
              "      display: none;\n",
              "      fill: #1967D2;\n",
              "      height: 32px;\n",
              "      padding: 0 0 0 0;\n",
              "      width: 32px;\n",
              "    }\n",
              "\n",
              "    .colab-df-convert:hover {\n",
              "      background-color: #E2EBFA;\n",
              "      box-shadow: 0px 1px 2px rgba(60, 64, 67, 0.3), 0px 1px 3px 1px rgba(60, 64, 67, 0.15);\n",
              "      fill: #174EA6;\n",
              "    }\n",
              "\n",
              "    .colab-df-buttons div {\n",
              "      margin-bottom: 4px;\n",
              "    }\n",
              "\n",
              "    [theme=dark] .colab-df-convert {\n",
              "      background-color: #3B4455;\n",
              "      fill: #D2E3FC;\n",
              "    }\n",
              "\n",
              "    [theme=dark] .colab-df-convert:hover {\n",
              "      background-color: #434B5C;\n",
              "      box-shadow: 0px 1px 3px 1px rgba(0, 0, 0, 0.15);\n",
              "      filter: drop-shadow(0px 1px 2px rgba(0, 0, 0, 0.3));\n",
              "      fill: #FFFFFF;\n",
              "    }\n",
              "  </style>\n",
              "\n",
              "    <script>\n",
              "      const buttonEl =\n",
              "        document.querySelector('#df-73e5225c-83d6-435b-a3e6-eb70476a0f75 button.colab-df-convert');\n",
              "      buttonEl.style.display =\n",
              "        google.colab.kernel.accessAllowed ? 'block' : 'none';\n",
              "\n",
              "      async function convertToInteractive(key) {\n",
              "        const element = document.querySelector('#df-73e5225c-83d6-435b-a3e6-eb70476a0f75');\n",
              "        const dataTable =\n",
              "          await google.colab.kernel.invokeFunction('convertToInteractive',\n",
              "                                                    [key], {});\n",
              "        if (!dataTable) return;\n",
              "\n",
              "        const docLinkHtml = 'Like what you see? Visit the ' +\n",
              "          '<a target=\"_blank\" href=https://colab.research.google.com/notebooks/data_table.ipynb>data table notebook</a>'\n",
              "          + ' to learn more about interactive tables.';\n",
              "        element.innerHTML = '';\n",
              "        dataTable['output_type'] = 'display_data';\n",
              "        await google.colab.output.renderOutput(dataTable, element);\n",
              "        const docLink = document.createElement('div');\n",
              "        docLink.innerHTML = docLinkHtml;\n",
              "        element.appendChild(docLink);\n",
              "      }\n",
              "    </script>\n",
              "  </div>\n",
              "\n",
              "\n",
              "<div id=\"df-2aec7541-7903-455f-9f9f-778c71eb0a87\">\n",
              "  <button class=\"colab-df-quickchart\" onclick=\"quickchart('df-2aec7541-7903-455f-9f9f-778c71eb0a87')\"\n",
              "            title=\"Suggest charts\"\n",
              "            style=\"display:none;\">\n",
              "\n",
              "<svg xmlns=\"http://www.w3.org/2000/svg\" height=\"24px\"viewBox=\"0 0 24 24\"\n",
              "     width=\"24px\">\n",
              "    <g>\n",
              "        <path d=\"M19 3H5c-1.1 0-2 .9-2 2v14c0 1.1.9 2 2 2h14c1.1 0 2-.9 2-2V5c0-1.1-.9-2-2-2zM9 17H7v-7h2v7zm4 0h-2V7h2v10zm4 0h-2v-4h2v4z\"/>\n",
              "    </g>\n",
              "</svg>\n",
              "  </button>\n",
              "\n",
              "<style>\n",
              "  .colab-df-quickchart {\n",
              "      --bg-color: #E8F0FE;\n",
              "      --fill-color: #1967D2;\n",
              "      --hover-bg-color: #E2EBFA;\n",
              "      --hover-fill-color: #174EA6;\n",
              "      --disabled-fill-color: #AAA;\n",
              "      --disabled-bg-color: #DDD;\n",
              "  }\n",
              "\n",
              "  [theme=dark] .colab-df-quickchart {\n",
              "      --bg-color: #3B4455;\n",
              "      --fill-color: #D2E3FC;\n",
              "      --hover-bg-color: #434B5C;\n",
              "      --hover-fill-color: #FFFFFF;\n",
              "      --disabled-bg-color: #3B4455;\n",
              "      --disabled-fill-color: #666;\n",
              "  }\n",
              "\n",
              "  .colab-df-quickchart {\n",
              "    background-color: var(--bg-color);\n",
              "    border: none;\n",
              "    border-radius: 50%;\n",
              "    cursor: pointer;\n",
              "    display: none;\n",
              "    fill: var(--fill-color);\n",
              "    height: 32px;\n",
              "    padding: 0;\n",
              "    width: 32px;\n",
              "  }\n",
              "\n",
              "  .colab-df-quickchart:hover {\n",
              "    background-color: var(--hover-bg-color);\n",
              "    box-shadow: 0 1px 2px rgba(60, 64, 67, 0.3), 0 1px 3px 1px rgba(60, 64, 67, 0.15);\n",
              "    fill: var(--button-hover-fill-color);\n",
              "  }\n",
              "\n",
              "  .colab-df-quickchart-complete:disabled,\n",
              "  .colab-df-quickchart-complete:disabled:hover {\n",
              "    background-color: var(--disabled-bg-color);\n",
              "    fill: var(--disabled-fill-color);\n",
              "    box-shadow: none;\n",
              "  }\n",
              "\n",
              "  .colab-df-spinner {\n",
              "    border: 2px solid var(--fill-color);\n",
              "    border-color: transparent;\n",
              "    border-bottom-color: var(--fill-color);\n",
              "    animation:\n",
              "      spin 1s steps(1) infinite;\n",
              "  }\n",
              "\n",
              "  @keyframes spin {\n",
              "    0% {\n",
              "      border-color: transparent;\n",
              "      border-bottom-color: var(--fill-color);\n",
              "      border-left-color: var(--fill-color);\n",
              "    }\n",
              "    20% {\n",
              "      border-color: transparent;\n",
              "      border-left-color: var(--fill-color);\n",
              "      border-top-color: var(--fill-color);\n",
              "    }\n",
              "    30% {\n",
              "      border-color: transparent;\n",
              "      border-left-color: var(--fill-color);\n",
              "      border-top-color: var(--fill-color);\n",
              "      border-right-color: var(--fill-color);\n",
              "    }\n",
              "    40% {\n",
              "      border-color: transparent;\n",
              "      border-right-color: var(--fill-color);\n",
              "      border-top-color: var(--fill-color);\n",
              "    }\n",
              "    60% {\n",
              "      border-color: transparent;\n",
              "      border-right-color: var(--fill-color);\n",
              "    }\n",
              "    80% {\n",
              "      border-color: transparent;\n",
              "      border-right-color: var(--fill-color);\n",
              "      border-bottom-color: var(--fill-color);\n",
              "    }\n",
              "    90% {\n",
              "      border-color: transparent;\n",
              "      border-bottom-color: var(--fill-color);\n",
              "    }\n",
              "  }\n",
              "</style>\n",
              "\n",
              "  <script>\n",
              "    async function quickchart(key) {\n",
              "      const quickchartButtonEl =\n",
              "        document.querySelector('#' + key + ' button');\n",
              "      quickchartButtonEl.disabled = true;  // To prevent multiple clicks.\n",
              "      quickchartButtonEl.classList.add('colab-df-spinner');\n",
              "      try {\n",
              "        const charts = await google.colab.kernel.invokeFunction(\n",
              "            'suggestCharts', [key], {});\n",
              "      } catch (error) {\n",
              "        console.error('Error during call to suggestCharts:', error);\n",
              "      }\n",
              "      quickchartButtonEl.classList.remove('colab-df-spinner');\n",
              "      quickchartButtonEl.classList.add('colab-df-quickchart-complete');\n",
              "    }\n",
              "    (() => {\n",
              "      let quickchartButtonEl =\n",
              "        document.querySelector('#df-2aec7541-7903-455f-9f9f-778c71eb0a87 button');\n",
              "      quickchartButtonEl.style.display =\n",
              "        google.colab.kernel.accessAllowed ? 'block' : 'none';\n",
              "    })();\n",
              "  </script>\n",
              "</div>\n",
              "\n",
              "    </div>\n",
              "  </div>\n"
            ],
            "application/vnd.google.colaboratory.intrinsic+json": {
              "type": "dataframe",
              "variable_name": "total_data",
              "summary": "{\n  \"name\": \"total_data\",\n  \"rows\": 94379,\n  \"fields\": [\n    {\n      \"column\": \"Text\",\n      \"properties\": {\n        \"dtype\": \"string\",\n        \"num_unique_values\": 93866,\n        \"samples\": [\n          \"people criticize nsna low-point bond god sean connery career unofficial may contain spoiler first movie better bond film featuring actor connery sub par wannabe book sean connery real bond one come even close toughness good look sex appeal yes movie low point connery bond career still definet best bond film sean connery bond actor good older age become baggy mess like moore kept good look toughness gaining gray hair he still real cool tough ever sean connery one movie definitly worth seeing matter anyone say gun-barrel opening nt everything great theme song though\",\n          \"watched film showing comment first time saw film remember taping mother betamax wound taping black white reason gave period look grew like remember distinctively film beginning song bonnie camera panned scene liverpool also remember opening scene paul gesture girl say look talent great irritation popped taped version remembered film open love instead bonnie see slowly camera pan v speed music see love nt fit also later version paul see girl say look girl somehow remembered earlier version word nt seem fit either felt americanize film american audience beyond personally going watch film british band want british colloquialism would part speech mannerism etc another irritation choppy editing television stu get beaten example film cut commercial break-lots em yeah know depends network really ruin effect film sliced apart know people might find insignificant term dialogue thereby okay edit may actually way explaining particular action scene follows point best version film probably earlier version taped happened include shake rattle roll scene version nt started surmise two different version made television look alternate version link regarding film proved right american version shortercutdifferent scene andor dialogue huge disappointment something worth mentioning one care thing imo one best bet try get hold european version film possible probably even less possible unedited version sadly discard old betamax european version nt know convert it aside found film perhaps one best film regarding story behind birth beatles well aware artistic creative license often used movie portraying event history nt let discrepancy mar enjoyment film sure see beatles perform song cavern made wonder even write back nt think nevertheless thought great film performance wonderful real stand-out fact actor played john stephen mackenna fell love look mannerism personality speaking voice seemed spot-on looked enough like young john double-take towards end film see beatles performing sullivan first time actually found questioning whether actual beatle footage saw actor scene re looking dead accurate history beatles life beginning nt get better beatles anthology written boy however re looking fun snapshot pre-beatlemania day leading arrival america leave anal critical assessment door nt wrong birth beatles must real casual beatle fan\",\n          \"underachieving vocal coach motivated father king movie-trailer voice-overs pursue aspiration becoming voice-over star amidst pride sexism family dysfunction set change voice generation\"\n        ],\n        \"semantic_type\": \"\",\n        \"description\": \"\"\n      }\n    },\n    {\n      \"column\": \"Label\",\n      \"properties\": {\n        \"dtype\": \"number\",\n        \"std\": 0,\n        \"min\": 0,\n        \"max\": 1,\n        \"num_unique_values\": 2,\n        \"samples\": [\n          1,\n          0\n        ],\n        \"semantic_type\": \"\",\n        \"description\": \"\"\n      }\n    }\n  ]\n}"
            }
          },
          "metadata": {},
          "execution_count": 8
        }
      ]
    },
    {
      "cell_type": "code",
      "source": [
        "data_y = pd.DataFrame(data=total_data['Label'],columns=['Label'])\n",
        "data_x = total_data.drop(columns=\"Label\")"
      ],
      "metadata": {
        "id": "sZGX0rT4e-ya"
      },
      "execution_count": 9,
      "outputs": []
    },
    {
      "cell_type": "code",
      "source": [
        "x_train,x_test,y_train,y_test = train_test_split(data_x,data_y,train_size=0.9,random_state=42)\n",
        "x_train,x_cv,y_train,y_cv = train_test_split(x_train,y_train,train_size=0.9,random_state=42)"
      ],
      "metadata": {
        "id": "z-5f2mKge-1o"
      },
      "execution_count": 10,
      "outputs": []
    },
    {
      "cell_type": "code",
      "source": [
        "x_test.to_csv(\"/content/drive/My Drive/cs230 project self/x_test.csv\",index=False)\n",
        "y_test.to_csv(\"/content/drive/My Drive/cs230 project self/y_test.csv\",index=False)"
      ],
      "metadata": {
        "id": "LZzlnk3Pe-41"
      },
      "execution_count": 11,
      "outputs": []
    },
    {
      "cell_type": "code",
      "source": [
        "max_len=0\n",
        "l=[]\n",
        "index=[]\n",
        "for i in range(len(x_train)):\n",
        "  cur_len = len(x_train.iloc[i,0].split())\n",
        "  if(cur_len>max_len):\n",
        "    max_len=cur_len\n",
        "print(\"Maximum length of sentence::\",max_len)"
      ],
      "metadata": {
        "colab": {
          "base_uri": "https://localhost:8080/"
        },
        "id": "lqBPP4y9e-8Q",
        "outputId": "2db3219c-dc66-4835-a950-d4892ff56727"
      },
      "execution_count": 12,
      "outputs": [
        {
          "output_type": "stream",
          "name": "stdout",
          "text": [
            "Maximum length of sentence:: 1393\n"
          ]
        }
      ]
    },
    {
      "cell_type": "code",
      "source": [
        "vocab={}\n",
        "for i in tqdm(x_train['Text'],position=0,leave=True):\n",
        "  for j in i.split():\n",
        "    if j not in vocab:\n",
        "      vocab[j]=1\n",
        "    else:\n",
        "      vocab[j]+=1\n",
        "vocab = sorted(vocab, key=vocab.get, reverse=True)"
      ],
      "metadata": {
        "colab": {
          "base_uri": "https://localhost:8080/"
        },
        "id": "paq4KXttfKgm",
        "outputId": "970ee620-44e7-48f6-d8f7-bc06bf6ce9e0"
      },
      "execution_count": 13,
      "outputs": [
        {
          "output_type": "stream",
          "name": "stderr",
          "text": [
            "100%|██████████| 76446/76446 [00:02<00:00, 28487.48it/s]\n"
          ]
        }
      ]
    },
    {
      "cell_type": "code",
      "source": [
        "def vectorize(data,vocab):\n",
        "  print(\"\\nGenerating Vectors......\")\n",
        "  max_seq_len=1400\n",
        "  row=0\n",
        "  ## converting sequence to vector...\n",
        "  new_data = pd.DataFrame(columns=[\"Text\"])\n",
        "  for i in tqdm(data['Text'],position=0,leave=True):\n",
        "    sent=[]\n",
        "    for j in i.split():\n",
        "      try:\n",
        "        sent.append((vocab.index(j))+1)\n",
        "      except:\n",
        "        continue\n",
        "    new_data.loc[row] = [sent]\n",
        "    row+=1\n",
        "  new_data = sequence.pad_sequences(new_data['Text'], maxlen=max_seq_len)\n",
        "  return new_data"
      ],
      "metadata": {
        "id": "rpJIOQYlfKjk"
      },
      "execution_count": 14,
      "outputs": []
    },
    {
      "cell_type": "code",
      "source": [
        "x_train_vec = vectorize(x_train,vocab)\n",
        "x_cv_vec = vectorize(x_cv,vocab)\n",
        "x_test_vec = vectorize(x_test,vocab)"
      ],
      "metadata": {
        "colab": {
          "base_uri": "https://localhost:8080/"
        },
        "id": "oZmMfS0GfKmv",
        "outputId": "635d59be-a86c-40cf-83b1-9c5b4c321ea1"
      },
      "execution_count": 15,
      "outputs": [
        {
          "output_type": "stream",
          "name": "stdout",
          "text": [
            "\n",
            "Generating Vectors......\n"
          ]
        },
        {
          "output_type": "stream",
          "name": "stderr",
          "text": [
            "100%|██████████| 76446/76446 [21:31<00:00, 59.19it/s]\n"
          ]
        },
        {
          "output_type": "stream",
          "name": "stdout",
          "text": [
            "\n",
            "Generating Vectors......\n"
          ]
        },
        {
          "output_type": "stream",
          "name": "stderr",
          "text": [
            "100%|██████████| 8495/8495 [02:48<00:00, 50.45it/s]\n"
          ]
        },
        {
          "output_type": "stream",
          "name": "stdout",
          "text": [
            "\n",
            "Generating Vectors......\n"
          ]
        },
        {
          "output_type": "stream",
          "name": "stderr",
          "text": [
            "100%|██████████| 9438/9438 [03:04<00:00, 51.19it/s]\n"
          ]
        }
      ]
    },
    {
      "cell_type": "code",
      "source": [
        "import json\n",
        "# Basic LSTM model with 0.01 learn rate and 1000 batch size\n",
        "lstm_model1 = Sequential()\n",
        "lstm_model1.add(Embedding(1+len(vocab),20,input_length=1400))\n",
        "lstm_model1.add(LSTM(20))\n",
        "lstm_model1.add(Dense(2, activation='softmax'))\n",
        "checkpoint1 = ModelCheckpoint('/content/drive/My Drive/cs230 project self/saved models/model1analysis-{epoch:03d}-{acc:03f}-{val_acc:03f}.keras', verbose=1, monitor='val_loss',save_best_only=True, mode='auto')\n",
        "lstm_model1.compile(loss='binary_crossentropy', optimizer=keras.optimizers.Adam(0.01), metrics=['acc'])\n",
        "values1analysis=lstm_model1.fit(x_train_vec,keras.utils.to_categorical(y_train,num_classes=2),epochs=3,batch_size=1000,validation_data=(x_cv_vec,keras.utils.to_categorical(y_cv,num_classes=2)),callbacks=[checkpoint1])\n",
        "with open('/content/drive/My Drive/cs230 project self/saved models/lstm_model1analysis_history.json', 'w') as f:\n",
        "    json.dump(values1analysis.history, f)"
      ],
      "metadata": {
        "colab": {
          "base_uri": "https://localhost:8080/"
        },
        "id": "e_-t7PNNfKpp",
        "outputId": "b9776faa-5593-4a3a-b74d-4b36ffdd100b"
      },
      "execution_count": 16,
      "outputs": [
        {
          "output_type": "stream",
          "name": "stdout",
          "text": [
            "Epoch 1/3\n",
            "\u001b[1m77/77\u001b[0m \u001b[32m━━━━━━━━━━━━━━━━━━━━\u001b[0m\u001b[37m\u001b[0m \u001b[1m0s\u001b[0m 3s/step - acc: 0.8957 - loss: 0.2604\n",
            "Epoch 1: val_loss improved from inf to 0.04886, saving model to /content/drive/My Drive/cs230 project self/saved models/model1analysis-001-0.956283-0.985050.keras\n",
            "\u001b[1m77/77\u001b[0m \u001b[32m━━━━━━━━━━━━━━━━━━━━\u001b[0m\u001b[37m\u001b[0m \u001b[1m253s\u001b[0m 3s/step - acc: 0.8965 - loss: 0.2587 - val_acc: 0.9851 - val_loss: 0.0489\n",
            "Epoch 2/3\n",
            "\u001b[1m77/77\u001b[0m \u001b[32m━━━━━━━━━━━━━━━━━━━━\u001b[0m\u001b[37m\u001b[0m \u001b[1m0s\u001b[0m 3s/step - acc: 0.9926 - loss: 0.0288\n",
            "Epoch 2: val_loss improved from 0.04886 to 0.04323, saving model to /content/drive/My Drive/cs230 project self/saved models/model1analysis-002-0.992426-0.987051.keras\n",
            "\u001b[1m77/77\u001b[0m \u001b[32m━━━━━━━━━━━━━━━━━━━━\u001b[0m\u001b[37m\u001b[0m \u001b[1m262s\u001b[0m 3s/step - acc: 0.9926 - loss: 0.0288 - val_acc: 0.9871 - val_loss: 0.0432\n",
            "Epoch 3/3\n",
            "\u001b[1m77/77\u001b[0m \u001b[32m━━━━━━━━━━━━━━━━━━━━\u001b[0m\u001b[37m\u001b[0m \u001b[1m0s\u001b[0m 3s/step - acc: 0.9976 - loss: 0.0109\n",
            "Epoch 3: val_loss did not improve from 0.04323\n",
            "\u001b[1m77/77\u001b[0m \u001b[32m━━━━━━━━━━━━━━━━━━━━\u001b[0m\u001b[37m\u001b[0m \u001b[1m260s\u001b[0m 3s/step - acc: 0.9976 - loss: 0.0109 - val_acc: 0.9876 - val_loss: 0.0465\n"
          ]
        }
      ]
    },
    {
      "cell_type": "code",
      "source": [
        "from sklearn.feature_extraction.text import CountVectorizer\n",
        "# Assuming data_x['Text'] contains the original texts and y_cv contains the actual labels\n",
        "# predictions is the list of predicted labels\n",
        "\n",
        "predictions_prob = lstm_model1.predict(x_cv_vec)\n",
        "\n",
        "# Convert probabilities to class labels (assuming binary classification)\n",
        "predictions = np.argmax(predictions_prob, axis=1)\n",
        "\n",
        "true_labels = y_cv.values\n",
        "\n",
        "# Identify misclassified indices\n",
        "misclassified_indices = [\n",
        "    i for i in range(len(x_cv)) if predictions[i] != true_labels[i]\n",
        "]\n",
        "\n",
        "# Extract the original texts for misclassified examples\n",
        "misclassified_texts = data_x.iloc[misclassified_indices]['Text']\n",
        "\n",
        "# Perform n-gram analysis\n",
        "def ngram_analysis(texts, n=2):\n",
        "    \"\"\"\n",
        "    Analyze the most common n-grams in the given texts.\n",
        "    Args:\n",
        "        texts (iterable): Collection of text data.\n",
        "        n (int): The size of n-grams to analyze.\n",
        "    Returns:\n",
        "        DataFrame: Most common n-grams with their counts.\n",
        "    \"\"\"\n",
        "    vectorizer = CountVectorizer(ngram_range=(n, n), max_features=20, stop_words='english')\n",
        "    X = vectorizer.fit_transform(texts)\n",
        "    ngram_counts = X.sum(axis=0).A1\n",
        "    ngram_features = vectorizer.get_feature_names_out()\n",
        "\n",
        "    # Create a DataFrame of n-grams and their counts\n",
        "    ngram_df = pd.DataFrame({\n",
        "        'N-gram': ngram_features,\n",
        "        'Count': ngram_counts\n",
        "    }).sort_values(by='Count', ascending=False)\n",
        "\n",
        "    return ngram_df\n",
        "\n",
        "# Run unigram analysis (change `n` for other n-grams)\n",
        "unigram_df = ngram_analysis(misclassified_texts, n=1)\n",
        "sorted_unigram_df = unigram_df.sort_values(by='Count', ascending=False).reset_index(drop=True)\n",
        "print(\"Most common unigrams in misclassified examples:\")\n",
        "print(sorted_unigram_df)\n",
        "\n",
        "# Example: Save results to a CSV file\n",
        "unigram_df.to_csv('/content/drive/My Drive/ngram_analysis_unigrams.csv', index=False)\n",
        "\n",
        "\n",
        "# Run bigram analysis (change `n` for other n-grams)\n",
        "bigram_df = ngram_analysis(misclassified_texts, n=2)\n",
        "sorted_bigram_df = bigram_df.sort_values(by='Count', ascending=False).reset_index(drop=True)\n",
        "print(\"Most common bigrams in misclassified examples:\")\n",
        "print(sorted_bigram_df)\n",
        "\n",
        "# Example: Save results to a CSV file\n",
        "bigram_df.to_csv('/content/drive/My Drive/ngram_analysis_bigrams.csv', index=False)\n",
        "\n",
        "# Optional: Trigram analysis\n",
        "trigram_df = ngram_analysis(misclassified_texts, n=3)\n",
        "sorted_trigram_df = trigram_df.sort_values(by='Count', ascending=False).reset_index(drop=True)\n",
        "print(\"Most common trigrams in misclassified examples:\")\n",
        "print(sorted_trigram_df)\n",
        "\n",
        "# Save trigram results\n",
        "trigram_df.to_csv('/content/drive/My Drive/ngram_analysis_trigrams.csv', index=False)\n"
      ],
      "metadata": {
        "colab": {
          "base_uri": "https://localhost:8080/"
        },
        "id": "VVlH0ahmfmd9",
        "outputId": "08f8e18d-f2c0-4f3a-afcb-07e3b532e143"
      },
      "execution_count": 37,
      "outputs": [
        {
          "output_type": "stream",
          "name": "stdout",
          "text": [
            "\u001b[1m266/266\u001b[0m \u001b[32m━━━━━━━━━━━━━━━━━━━━\u001b[0m\u001b[37m\u001b[0m \u001b[1m29s\u001b[0m 111ms/step\n",
            "Most common unigrams in misclassified examples:\n",
            "       N-gram  Count\n",
            "0       movie    189\n",
            "1        film    181\n",
            "2          nt    119\n",
            "3        like     77\n",
            "4       story     68\n",
            "5        good     65\n",
            "6        time     59\n",
            "7       thing     48\n",
            "8         bad     45\n",
            "9   character     44\n",
            "10      scene     44\n",
            "11       make     41\n",
            "12        end     39\n",
            "13     really     37\n",
            "14     better     35\n",
            "15       look     31\n",
            "16       best     31\n",
            "17     people     31\n",
            "18        say     30\n",
            "19     little     29\n",
            "Most common bigrams in misclassified examples:\n",
            "             N-gram  Count\n",
            "0   barry champlain     11\n",
            "1           ve seen     10\n",
            "2          bug life      9\n",
            "3    special effect      7\n",
            "4          movie nt      6\n",
            "5       pretty good      6\n",
            "6       jesus jesus      6\n",
            "7         look like      6\n",
            "8           film nt      5\n",
            "9       worst movie      5\n",
            "10        end movie      5\n",
            "11          bad guy      5\n",
            "12          nt know      5\n",
            "13      people like      5\n",
            "14         ll learn      4\n",
            "15         nt watch      4\n",
            "16       good movie      4\n",
            "17       true story      4\n",
            "18       based true      4\n",
            "19   werewolf texas      4\n",
            "Most common trigrams in misclassified examples:\n",
            "                           N-gram  Count\n",
            "0          mexican werewolf texas      4\n",
            "1                based true story      3\n",
            "2               jesus jesus jesus      3\n",
            "3              meadow leon phelps      2\n",
            "4                   blink ll miss      2\n",
            "5           dallas radio audience      2\n",
            "6                 elite red beret      2\n",
            "7                  film long time      2\n",
            "8             high school student      2\n",
            "9                lack better term      2\n",
            "10           lou diamond phillips      2\n",
            "11                  movie ve seen      2\n",
            "12                 mtv video clip      2\n",
            "13            natural born killer      2\n",
            "14               said jesus jesus      2\n",
            "15             shovel bashed head      2\n",
            "16                tim meadow leon      2\n",
            "17                   ve seen like      2\n",
            "18  african american relationship      2\n",
            "19                 worst movie ve      2\n"
          ]
        }
      ]
    },
    {
      "cell_type": "code",
      "source": [
        "from sklearn.metrics import confusion_matrix\n",
        "import seaborn as sns\n",
        "\n",
        "# Step 1: Make predictions on the validation data\n",
        "predictions_prob = lstm_model1.predict(x_cv_vec)\n",
        "\n",
        "# Step 2: Convert probabilities to class labels (assuming binary classification)\n",
        "predictions = np.argmax(predictions_prob, axis=1)\n",
        "\n",
        "# Step 3: Ensure y_cv is in the correct format\n",
        "# If y_cv is one-hot encoded, convert it to class labels\n",
        "true_labels = y_cv.values\n",
        "\n",
        "# Step 4: Generate the confusion matrix\n",
        "cm = confusion_matrix(true_labels, predictions)\n",
        "\n",
        "# Step 5: Plot the confusion matrix\n",
        "plt.figure(figsize=(6, 5))\n",
        "sns.heatmap(cm, annot=True, fmt='d', cmap='Blues', xticklabels=['Predicted Opinion', 'Predicted Fact'], yticklabels=['True Opinion', 'True Fact'])\n",
        "plt.title('Confusion Matrix')\n",
        "plt.xlabel('Predicted Labels')\n",
        "plt.ylabel('True Labels')\n",
        "plt.show()\n"
      ],
      "metadata": {
        "colab": {
          "base_uri": "https://localhost:8080/",
          "height": 504
        },
        "id": "q9MfCtHd4i1R",
        "outputId": "0b4fcd18-b218-46c9-e80a-921e05dc96d6"
      },
      "execution_count": 42,
      "outputs": [
        {
          "output_type": "stream",
          "name": "stdout",
          "text": [
            "\u001b[1m266/266\u001b[0m \u001b[32m━━━━━━━━━━━━━━━━━━━━\u001b[0m\u001b[37m\u001b[0m \u001b[1m29s\u001b[0m 108ms/step\n"
          ]
        },
        {
          "output_type": "display_data",
          "data": {
            "text/plain": [
              "<Figure size 600x500 with 2 Axes>"
            ],
            "image/png": "[encoded data removed]"
          },
          "metadata": {}
        }
      ]
    },
    {
      "cell_type": "code",
      "source": [
        "# add 2-3 different models for comparison and show a couple of wrongly classified examples\n",
        "bi_lstm_model = Sequential()\n",
        "bi_lstm_model.add(Embedding(1 + len(vocab), 20, input_length=1400))\n",
        "bi_lstm_model.add(Bidirectional(LSTM(20)))\n",
        "bi_lstm_model.add(Dense(2, activation='softmax'))\n",
        "\n",
        "checkpoint1 = ModelCheckpoint('/content/drive/My Drive/cs230 project self/saved models/bi_model_lstm-{epoch:03d}-{acc:03f}-{val_acc:03f}.keras', verbose=1, monitor='val_loss',save_best_only=True, mode='auto')\n",
        "bi_lstm_model.compile(loss='binary_crossentropy', optimizer=keras.optimizers.Adam(0.01), metrics=['acc'])\n",
        "\n",
        "\n",
        "values_bi=bi_lstm_model.fit(x_train_vec,keras.utils.to_categorical(y_train,num_classes=2),epochs=3,batch_size=1000,validation_data=(x_cv_vec,keras.utils.to_categorical(y_cv,num_classes=2)),callbacks=[checkpoint1])\n",
        "with open('/content/drive/My Drive/cs230 project self/saved models/bi_lstm_model_history.json', 'w') as f:\n",
        "    json.dump(values_bi.history, f)"
      ],
      "metadata": {
        "colab": {
          "base_uri": "https://localhost:8080/"
        },
        "id": "1vt2bUZU_IQ1",
        "outputId": "7b9df84d-eac7-40fe-b426-0b6ff959ffbf"
      },
      "execution_count": 43,
      "outputs": [
        {
          "output_type": "stream",
          "name": "stdout",
          "text": [
            "Epoch 1/3\n",
            "\u001b[1m77/77\u001b[0m \u001b[32m━━━━━━━━━━━━━━━━━━━━\u001b[0m\u001b[37m\u001b[0m \u001b[1m0s\u001b[0m 8s/step - acc: 0.8767 - loss: 0.2942\n",
            "Epoch 1: val_loss improved from inf to 0.04444, saving model to /content/drive/My Drive/cs230 project self/saved models/bi_model_lstm-001-0.950501-0.987404.keras\n",
            "\u001b[1m77/77\u001b[0m \u001b[32m━━━━━━━━━━━━━━━━━━━━\u001b[0m\u001b[37m\u001b[0m \u001b[1m610s\u001b[0m 8s/step - acc: 0.8777 - loss: 0.2924 - val_acc: 0.9874 - val_loss: 0.0444\n",
            "Epoch 2/3\n",
            "\u001b[1m77/77\u001b[0m \u001b[32m━━━━━━━━━━━━━━━━━━━━\u001b[0m\u001b[37m\u001b[0m \u001b[1m0s\u001b[0m 6s/step - acc: 0.9918 - loss: 0.0296\n",
            "Epoch 2: val_loss did not improve from 0.04444\n",
            "\u001b[1m77/77\u001b[0m \u001b[32m━━━━━━━━━━━━━━━━━━━━\u001b[0m\u001b[37m\u001b[0m \u001b[1m486s\u001b[0m 6s/step - acc: 0.9918 - loss: 0.0296 - val_acc: 0.9861 - val_loss: 0.0476\n",
            "Epoch 3/3\n",
            "\u001b[1m77/77\u001b[0m \u001b[32m━━━━━━━━━━━━━━━━━━━━\u001b[0m\u001b[37m\u001b[0m \u001b[1m0s\u001b[0m 6s/step - acc: 0.9977 - loss: 0.0108\n",
            "Epoch 3: val_loss did not improve from 0.04444\n",
            "\u001b[1m77/77\u001b[0m \u001b[32m━━━━━━━━━━━━━━━━━━━━\u001b[0m\u001b[37m\u001b[0m \u001b[1m506s\u001b[0m 6s/step - acc: 0.9977 - loss: 0.0109 - val_acc: 0.9872 - val_loss: 0.0448\n"
          ]
        }
      ]
    },
    {
      "cell_type": "code",
      "source": [
        "stack_lstm_model = Sequential()\n",
        "stack_lstm_model.add(Embedding(1 + len(vocab), 20, input_length=1400))\n",
        "stack_lstm_model.add(LSTM(50, return_sequences=True))\n",
        "stack_lstm_model.add(LSTM(20))\n",
        "stack_lstm_model.add(Dense(2, activation='softmax'))\n",
        "\n",
        "checkpoint1 = ModelCheckpoint('/content/drive/My Drive/cs230 project self/saved models/stack_model_lstm-{epoch:03d}-{acc:03f}-{val_acc:03f}.keras', verbose=1, monitor='val_loss',save_best_only=True, mode='auto')\n",
        "\n",
        "stack_lstm_model.compile(loss='binary_crossentropy', optimizer=keras.optimizers.Adam(0.01), metrics=['acc'])\n",
        "\n",
        "values_stack=stack_lstm_model.fit(x_train_vec,keras.utils.to_categorical(y_train,num_classes=2),epochs=3,batch_size=1000,validation_data=(x_cv_vec,keras.utils.to_categorical(y_cv,num_classes=2)),callbacks=[checkpoint1])\n",
        "with open('/content/drive/My Drive/cs230 project self/saved models/stack_lstm_model_history.json', 'w') as f:\n",
        "    json.dump(values_stack.history, f)"
      ],
      "metadata": {
        "colab": {
          "base_uri": "https://localhost:8080/"
        },
        "id": "VRuBJWcm_IXm",
        "outputId": "346615d1-6dcf-446f-f47d-2540e38ebf03"
      },
      "execution_count": 44,
      "outputs": [
        {
          "output_type": "stream",
          "name": "stdout",
          "text": [
            "Epoch 1/3\n",
            "\u001b[1m77/77\u001b[0m \u001b[32m━━━━━━━━━━━━━━━━━━━━\u001b[0m\u001b[37m\u001b[0m \u001b[1m0s\u001b[0m 11s/step - acc: 0.8933 - loss: 0.2683 \n",
            "Epoch 1: val_loss improved from inf to 0.04157, saving model to /content/drive/My Drive/cs230 project self/saved models/stack_model_lstm-001-0.953994-0.986698.keras\n",
            "\u001b[1m77/77\u001b[0m \u001b[32m━━━━━━━━━━━━━━━━━━━━\u001b[0m\u001b[37m\u001b[0m \u001b[1m884s\u001b[0m 11s/step - acc: 0.8940 - loss: 0.2666 - val_acc: 0.9867 - val_loss: 0.0416\n",
            "Epoch 2/3\n",
            "\u001b[1m77/77\u001b[0m \u001b[32m━━━━━━━━━━━━━━━━━━━━\u001b[0m\u001b[37m\u001b[0m \u001b[1m0s\u001b[0m 11s/step - acc: 0.9930 - loss: 0.0259 \n",
            "Epoch 2: val_loss improved from 0.04157 to 0.03751, saving model to /content/drive/My Drive/cs230 project self/saved models/stack_model_lstm-002-0.993486-0.988111.keras\n",
            "\u001b[1m77/77\u001b[0m \u001b[32m━━━━━━━━━━━━━━━━━━━━\u001b[0m\u001b[37m\u001b[0m \u001b[1m906s\u001b[0m 11s/step - acc: 0.9930 - loss: 0.0258 - val_acc: 0.9881 - val_loss: 0.0375\n",
            "Epoch 3/3\n",
            "\u001b[1m77/77\u001b[0m \u001b[32m━━━━━━━━━━━━━━━━━━━━\u001b[0m\u001b[37m\u001b[0m \u001b[1m0s\u001b[0m 11s/step - acc: 0.9982 - loss: 0.0088 \n",
            "Epoch 3: val_loss did not improve from 0.03751\n",
            "\u001b[1m77/77\u001b[0m \u001b[32m━━━━━━━━━━━━━━━━━━━━\u001b[0m\u001b[37m\u001b[0m \u001b[1m916s\u001b[0m 11s/step - acc: 0.9982 - loss: 0.0088 - val_acc: 0.9866 - val_loss: 0.0441\n"
          ]
        }
      ]
    },
    {
      "cell_type": "code",
      "source": [
        "drop_lstm_model = Sequential()\n",
        "drop_lstm_model.add(Embedding(1+len(vocab),20,input_length=1400))\n",
        "drop_lstm_model.add(LSTM(20, dropout=0.2, recurrent_dropout=0.2))\n",
        "drop_lstm_model.add(Dense(2, activation='softmax'))\n",
        "\n",
        "checkpoint1 = ModelCheckpoint('/content/drive/My Drive/cs230 project self/saved models/drop_lstm_model-{epoch:03d}-{acc:03f}-{val_acc:03f}.keras', verbose=1, monitor='val_loss',save_best_only=True, mode='auto')\n",
        "drop_lstm_model.compile(loss='binary_crossentropy', optimizer=keras.optimizers.Adam(0.01), metrics=['acc'])\n",
        "values_drop=drop_lstm_model.fit(x_train_vec,keras.utils.to_categorical(y_train,num_classes=2),epochs=3,batch_size=1000,validation_data=(x_cv_vec,keras.utils.to_categorical(y_cv,num_classes=2)),callbacks=[checkpoint1])\n",
        "with open('/content/drive/My Drive/cs230 project self/saved models/drop_lstm_history.json', 'w') as f:\n",
        "    json.dump(values1analysis.history, f)"
      ],
      "metadata": {
        "colab": {
          "base_uri": "https://localhost:8080/"
        },
        "id": "KpNr0b2TBf2P",
        "outputId": "6d1364b7-5888-4ff2-ac70-0d6278b25d8f"
      },
      "execution_count": 45,
      "outputs": [
        {
          "output_type": "stream",
          "name": "stdout",
          "text": [
            "Epoch 1/3\n",
            "\u001b[1m77/77\u001b[0m \u001b[32m━━━━━━━━━━━━━━━━━━━━\u001b[0m\u001b[37m\u001b[0m \u001b[1m0s\u001b[0m 3s/step - acc: 0.8746 - loss: 0.3068\n",
            "Epoch 1: val_loss improved from inf to 0.05059, saving model to /content/drive/My Drive/cs230 project self/saved models/drop_lstm_model-001-0.946328-0.984108.keras\n",
            "\u001b[1m77/77\u001b[0m \u001b[32m━━━━━━━━━━━━━━━━━━━━\u001b[0m\u001b[37m\u001b[0m \u001b[1m273s\u001b[0m 3s/step - acc: 0.8755 - loss: 0.3049 - val_acc: 0.9841 - val_loss: 0.0506\n",
            "Epoch 2/3\n",
            "\u001b[1m77/77\u001b[0m \u001b[32m━━━━━━━━━━━━━━━━━━━━\u001b[0m\u001b[37m\u001b[0m \u001b[1m0s\u001b[0m 3s/step - acc: 0.9881 - loss: 0.0392\n",
            "Epoch 2: val_loss did not improve from 0.05059\n",
            "\u001b[1m77/77\u001b[0m \u001b[32m━━━━━━━━━━━━━━━━━━━━\u001b[0m\u001b[37m\u001b[0m \u001b[1m324s\u001b[0m 4s/step - acc: 0.9881 - loss: 0.0392 - val_acc: 0.9828 - val_loss: 0.0525\n",
            "Epoch 3/3\n",
            "\u001b[1m77/77\u001b[0m \u001b[32m━━━━━━━━━━━━━━━━━━━━\u001b[0m\u001b[37m\u001b[0m \u001b[1m0s\u001b[0m 3s/step - acc: 0.9947 - loss: 0.0197\n",
            "Epoch 3: val_loss improved from 0.05059 to 0.04911, saving model to /content/drive/My Drive/cs230 project self/saved models/drop_lstm_model-003-0.994754-0.985639.keras\n",
            "\u001b[1m77/77\u001b[0m \u001b[32m━━━━━━━━━━━━━━━━━━━━\u001b[0m\u001b[37m\u001b[0m \u001b[1m272s\u001b[0m 4s/step - acc: 0.9947 - loss: 0.0197 - val_acc: 0.9856 - val_loss: 0.0491\n"
          ]
        }
      ]
    },
    {
      "cell_type": "code",
      "source": [
        "from sklearn.metrics import accuracy_score, precision_score, recall_score, f1_score\n",
        "y_pred_prob = lstm_model1.predict(x_cv_vec)\n",
        "y_pred = np.argmax(y_pred_prob, axis=1)\n",
        "y_true = y_cv\n",
        "\n",
        "\n",
        "accuracy = accuracy_score(y_true, y_pred)\n",
        "precision = precision_score(y_true, y_pred)\n",
        "recall = recall_score(y_true, y_pred)\n",
        "f1 = f1_score(y_true, y_pred)\n",
        "\n",
        "\n",
        "print(f\"Validation Accuracy: {accuracy:.4f}\")\n",
        "print(f\"Validation Precision: {precision:.4f}\")\n",
        "print(f\"Validation Recall: {recall:.4f}\")\n",
        "print(f\"Validation F1 Score: {f1:.4f}\")"
      ],
      "metadata": {
        "colab": {
          "base_uri": "https://localhost:8080/"
        },
        "id": "q8oxbvlLaaKs",
        "outputId": "15364da2-0faa-4533-8d2c-ebebb7bbba26"
      },
      "execution_count": 54,
      "outputs": [
        {
          "output_type": "stream",
          "name": "stdout",
          "text": [
            "\u001b[1m266/266\u001b[0m \u001b[32m━━━━━━━━━━━━━━━━━━━━\u001b[0m\u001b[37m\u001b[0m \u001b[1m30s\u001b[0m 112ms/step\n",
            "Validation Accuracy: 0.9876\n",
            "Validation Precision: 0.9865\n",
            "Validation Recall: 0.9868\n",
            "Validation F1 Score: 0.9866\n"
          ]
        }
      ]
    },
    {
      "cell_type": "code",
      "source": [
        "y_pred_prob = bi_lstm_model.predict(x_cv_vec)\n",
        "y_pred = np.argmax(y_pred_prob, axis=1)\n",
        "y_true = y_cv\n",
        "\n",
        "\n",
        "accuracy = accuracy_score(y_true, y_pred)\n",
        "precision = precision_score(y_true, y_pred)\n",
        "recall = recall_score(y_true, y_pred)\n",
        "f1 = f1_score(y_true, y_pred)\n",
        "\n",
        "\n",
        "print(f\"Validation Accuracy: {accuracy:.4f}\")\n",
        "print(f\"Validation Precision: {precision:.4f}\")\n",
        "print(f\"Validation Recall: {recall:.4f}\")\n",
        "print(f\"Validation F1 Score: {f1:.4f}\")"
      ],
      "metadata": {
        "colab": {
          "base_uri": "https://localhost:8080/"
        },
        "id": "h7hYBsJRah3e",
        "outputId": "06b8de7d-a00a-486f-e193-9652b2bc3365"
      },
      "execution_count": 55,
      "outputs": [
        {
          "output_type": "stream",
          "name": "stdout",
          "text": [
            "\u001b[1m266/266\u001b[0m \u001b[32m━━━━━━━━━━━━━━━━━━━━\u001b[0m\u001b[37m\u001b[0m \u001b[1m45s\u001b[0m 169ms/step\n",
            "Validation Accuracy: 0.9872\n",
            "Validation Precision: 0.9858\n",
            "Validation Recall: 0.9865\n",
            "Validation F1 Score: 0.9861\n"
          ]
        }
      ]
    },
    {
      "cell_type": "code",
      "source": [
        "y_pred_prob = stack_lstm_model.predict(x_cv_vec)\n",
        "y_pred = np.argmax(y_pred_prob, axis=1)\n",
        "y_true = y_cv\n",
        "\n",
        "\n",
        "accuracy = accuracy_score(y_true, y_pred)\n",
        "precision = precision_score(y_true, y_pred)\n",
        "recall = recall_score(y_true, y_pred)\n",
        "f1 = f1_score(y_true, y_pred)\n",
        "\n",
        "\n",
        "print(f\"Validation Accuracy: {accuracy:.4f}\")\n",
        "print(f\"Validation Precision: {precision:.4f}\")\n",
        "print(f\"Validation Recall: {recall:.4f}\")\n",
        "print(f\"Validation F1 Score: {f1:.4f}\")"
      ],
      "metadata": {
        "colab": {
          "base_uri": "https://localhost:8080/"
        },
        "id": "1dxUdfDBaiCB",
        "outputId": "f931320c-2bd9-4df4-e685-f55b631d099e"
      },
      "execution_count": 56,
      "outputs": [
        {
          "output_type": "stream",
          "name": "stdout",
          "text": [
            "\u001b[1m266/266\u001b[0m \u001b[32m━━━━━━━━━━━━━━━━━━━━\u001b[0m\u001b[37m\u001b[0m \u001b[1m68s\u001b[0m 256ms/step\n",
            "Validation Accuracy: 0.9866\n",
            "Validation Precision: 0.9872\n",
            "Validation Recall: 0.9837\n",
            "Validation F1 Score: 0.9855\n"
          ]
        }
      ]
    },
    {
      "cell_type": "code",
      "source": [
        "y_pred_prob = drop_lstm_model.predict(x_cv_vec)\n",
        "y_pred = np.argmax(y_pred_prob, axis=1)\n",
        "y_true = y_cv\n",
        "\n",
        "\n",
        "accuracy = accuracy_score(y_true, y_pred)\n",
        "precision = precision_score(y_true, y_pred)\n",
        "recall = recall_score(y_true, y_pred)\n",
        "f1 = f1_score(y_true, y_pred)\n",
        "\n",
        "\n",
        "print(f\"Validation Accuracy: {accuracy:.4f}\")\n",
        "print(f\"Validation Precision: {precision:.4f}\")\n",
        "print(f\"Validation Recall: {recall:.4f}\")\n",
        "print(f\"Validation F1 Score: {f1:.4f}\")"
      ],
      "metadata": {
        "colab": {
          "base_uri": "https://localhost:8080/"
        },
        "id": "MXzG57draiGM",
        "outputId": "2c5170b0-c1de-4f48-aa56-b133a950a391"
      },
      "execution_count": 57,
      "outputs": [
        {
          "output_type": "stream",
          "name": "stdout",
          "text": [
            "\u001b[1m266/266\u001b[0m \u001b[32m━━━━━━━━━━━━━━━━━━━━\u001b[0m\u001b[37m\u001b[0m \u001b[1m30s\u001b[0m 111ms/step\n",
            "Validation Accuracy: 0.9856\n",
            "Validation Precision: 0.9808\n",
            "Validation Recall: 0.9883\n",
            "Validation F1 Score: 0.9845\n"
          ]
        }
      ]
    }
  ]
}